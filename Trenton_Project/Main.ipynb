{
 "cells": [
  {
   "cell_type": "markdown",
   "id": "ffae5f63",
   "metadata": {},
   "source": [
    "# FTIR Data Analysis Main Workflow\n",
    "This notebook guides you through the main steps of the FTIR data analysis workflow, including file renaming, DataFrame creation or modification, and baseline correction parameter management.\n",
    "\n",
    "Note: multiple interactive cells can't be open at the same time, so click 'close' when done with one."
   ]
  },
  {
   "cell_type": "markdown",
   "id": "baac3563",
   "metadata": {},
   "source": [
    "## 1) Setup\n",
    "### Import Statements\n",
    "Import necessary libraries and modules for data analysis and visualization."
   ]
  },
  {
   "cell_type": "code",
   "execution_count": 1,
   "id": "58e5b728",
   "metadata": {},
   "outputs": [],
   "source": [
    "import pandas as pd\n",
    "from Fixing_File_Names import batch_rename_files\n",
    "from File_Info_Gathering import file_info_extractor\n",
    "from IPython.display import display, HTML\n",
    "from Fixing_File_Names import batch_rename_files\n",
    "from Analysis_FTIR import (\n",
    "    anchor_points_selection,\n",
    "    normalization_peak_selection,\n",
    "    plot_grouped_spectra,\n",
    "    try_baseline,\n",
    "    bring_in_DataFrame,\n",
    "    test_baseline_choices,\n",
    "    spectrum_normalization,\n",
    "    baseline_correction,\n",
    "    find_peak_info,\n",
    "    peak_deconvolution\n",
    ")\n",
    "try:# Colab Compatibility\n",
    "    from google.colab import output  # type: ignore \n",
    "\n",
    "    output.enable_custom_widget_manager()\n",
    "    In_Colab = True\n",
    "except Exception:\n",
    "    In_Colab = False"
   ]
  },
  {
   "cell_type": "markdown",
   "id": "a69f49c6",
   "metadata": {},
   "source": [
    "### File Renaming"
   ]
  },
  {
   "cell_type": "markdown",
   "id": "ad1ee19f",
   "metadata": {},
   "source": [
    "You can optionally rename files in your dataset.\n",
    "\n",
    "This script scans a specified root directory and its subdirectories to find and rename files. Folder names will not be changed,except in the case of date renaming to ISO format (e.g., 2025-09-18) (optional). It works by replacing spaces and/or specified words in the filenames. (e.g., replacing spaces with underscores). Suggested to use this tool if file names have inconsistent naming conventions that may cause issues in downstream processing."
   ]
  },
  {
   "cell_type": "code",
   "execution_count": null,
   "id": "c80c6551",
   "metadata": {},
   "outputs": [],
   "source": [
    "# Set directory to rename folders and files within (e.g., r\"C:\\Users\\user1\\folder1\").\n",
    "directory = r\"C:\\Users\\user1\\folder1\"\n",
    "# If you want to replace spaces in filenames, set replace_spaces to True and set \n",
    "# character_to_use to the desired separator (e.g., \"_\").\n",
    "replace_spaces = False\n",
    "character_to_use = \"_\"\n",
    "# If you want to convert all dates in the directory names to ISO format (YYYY-MM-DD), \n",
    "# set iso_date_rename to True\n",
    "iso_date_rename = False\n",
    "# If you want to replace other specified words in filenames, set file_rename to True and\n",
    "# provide pairs_input (e.g., \"old1:new1,old2:new2\").\n",
    "file_rename = False\n",
    "pairs_input = \"old1:new1,old2:new2\"\n",
    "# If any of these parameters are set to None, you will be prompted for input (may result\n",
    "# in multiple prompts and/or minor formatting issues).\n",
    "# Rename files in the specified directory.\n",
    "batch_rename_files(\n",
    "    directory=directory,\n",
    "    replace_spaces=replace_spaces,\n",
    "    character_to_use=character_to_use,\n",
    "    iso_date_rename=iso_date_rename,\n",
    "    file_rename=file_rename,\n",
    "    pairs_input=pairs_input,\n",
    ")"
   ]
  },
  {
   "cell_type": "markdown",
   "id": "c55543b1",
   "metadata": {},
   "source": [
    "### Load or create DataFrame\n",
    "The DataFrame stores all of the relevant information on the spectra in an organized format. Processes within this Notebook often refer to the DataFrame within the working memory, and it is saved at the end of the Notebook. If running this for the first time, this cell creates a blank DataFrame that will be filled in by the next cell."
   ]
  },
  {
   "cell_type": "code",
   "execution_count": 2,
   "id": "d5ef5b29",
   "metadata": {},
   "outputs": [],
   "source": [
    "# Set path to your DataFrame CSV file. Leave as None if DataFrame is new or in default \n",
    "# location.\n",
    "DataFrame_path = None\n",
    "\n",
    "FTIR_DataFrame, DataFrame_path = bring_in_DataFrame(DataFrame_path=DataFrame_path)"
   ]
  },
  {
   "cell_type": "markdown",
   "id": "ad02311b",
   "metadata": {},
   "source": [
    "### Fill or Append Spectra to DataFrame"
   ]
  },
  {
   "cell_type": "markdown",
   "id": "d55efc92",
   "metadata": {},
   "source": [
    "Gathers file information and builds the main data structure for analysis. Repeated uses can append new data into the existing DataFrame.\n",
    "\n",
    "The DataFrame will have a row for each spectrum file, with columns as follows:\n",
    "\n",
    "File Location, File Name, Date, Conditions, Material, Time, X-Axis, Raw Data, Baseline Function, Baseline Parameters, Baseline, Baseline-Corrected Data, Normalization Peak Wavenumber, Normalized and Corrected Data\n",
    "\n",
    "This function will append any files that aren't already included.\n",
    "If FTIR_DataFrame is empty it will create it from scratch."
   ]
  },
  {
   "cell_type": "code",
   "execution_count": null,
   "id": "f162543f",
   "metadata": {},
   "outputs": [],
   "source": [
    "# Set directory containing files to analyze (e.g., r\"C:\\Users\\user1\\folder1\").\n",
    "directory = r\"Y:\\5200\\Packaging Reliability\\Durability Tool\\Ray Tracing and Activation Spectrum\\ATR-FTIR Data\"\n",
    "# Set file types to include (e.g., [\".dpt\", \".txt\", \".csv\"]).\n",
    "file_types = \".dpt\"\n",
    "# Set separators to use when finding terms within filenames (e.g., [\"_\", \" \"])\n",
    "separators = \"_\"\n",
    "# Set material terms to search for in filenames (e.g., [\"Si\", \"Perovskite\", \"Glass\"]) \n",
    "# (case-insensitive).\n",
    "material_terms = \"CPC, t-PVDF, t-PVF, o-PVF, PPE, J-BOX#1, J-BOX#2, PO, PMMA\"\n",
    "# Set conditions terms to search for in filenames (e.g., [\"A3\", \"A4\", \"B3\", \"B4\"])\n",
    "conditions_terms = \"A3, A4, A5, 0.5X, 1X, 2.5X, 5X, ARC, OPN, KKCE, unexposed\"\n",
    "# Set append_missing to False to add only files which have all required information, or \n",
    "# True to add files even if some information is missing (may lead to issues downstream)\n",
    "append_missing = False\n",
    "# Set track_replicates to True to print the groups of replicate files\n",
    "access_subdirectories = False\n",
    "# Set access_subdirectories to False if you only want to search within folders in the\n",
    "# specified directory that have dates as their names. This lets you avoid searching\n",
    "# through unrelated folders that happen to be in the same directory.\n",
    "track_replicates = False\n",
    "# If any of these parameters are set to None, you will be prompted for input (may result\n",
    "# in multiple prompts and/or minor formatting issues).\n",
    "\n",
    "# Extract File Information and build or append to the main DataFrame.\n",
    "FTIR_DataFrame = file_info_extractor(\n",
    "    FTIR_DataFrame=FTIR_DataFrame,\n",
    "    directory=directory,\n",
    "    file_types=file_types,\n",
    "    separators=separators,\n",
    "    material_terms=material_terms,\n",
    "    conditions_terms=conditions_terms,\n",
    "    append_missing=append_missing,\n",
    "    access_subdirectories=access_subdirectories,\n",
    "    track_replicates=track_replicates,\n",
    ")"
   ]
  },
  {
   "cell_type": "markdown",
   "id": "1c1ebbd8",
   "metadata": {},
   "source": [
    "### Display DataFrame"
   ]
  },
  {
   "cell_type": "code",
   "execution_count": null,
   "id": "62a19bbb",
   "metadata": {},
   "outputs": [],
   "source": [
    "pd.set_option(\"display.max_columns\", None)\n",
    "pd.set_option(\"display.max_rows\", None)\n",
    "display(\n",
    "    HTML(\n",
    "        '<div style=\"height:500px;overflow:auto;\">'\n",
    "        + FTIR_DataFrame.to_html(max_rows=None, max_cols=None, notebook=True)\n",
    "        + \"</div>\"\n",
    "    )\n",
    ")"
   ]
  },
  {
   "cell_type": "markdown",
   "id": "e21d25f0",
   "metadata": {},
   "source": [
    "### Plot Spectra"
   ]
  },
  {
   "cell_type": "markdown",
   "id": "10c45832",
   "metadata": {},
   "source": [
    "Pick the material(s), condition(s), time(s) and which version of those files' data to plot.\n",
    "\n",
    "A group plot is always created, but if separate_plots = True, then each spectrum will also be plotted individually.\n",
    "\n",
    "If include_replicates = False, then the only first file found with those terms will be used."
   ]
  },
  {
   "cell_type": "code",
   "execution_count": null,
   "id": "3e0d7d11",
   "metadata": {},
   "outputs": [],
   "source": [
    "# Set parameters for filtering and plotting\n",
    "materials = \"PPE\"  # Example material\n",
    "conditions = \"ARC\"  # Example conditions\n",
    "times = \"any\"  # Example time\n",
    "raw_data = True\n",
    "baseline = False\n",
    "baseline_corrected = False\n",
    "normalized = False\n",
    "separate_plots = True\n",
    "include_replicates = True\n",
    "zoom = (\n",
    "    None  # Set to \"x_minimum-x_maximum\" format, e.g., \"400-4000\", or None for no zoom\n",
    ")\n",
    "\n",
    "# Plot the grouped spectra\n",
    "%matplotlib inline\n",
    "plot_grouped_spectra(\n",
    "    FTIR_DataFrame=FTIR_DataFrame,\n",
    "    materials=materials,\n",
    "    conditions=conditions,\n",
    "    times=times,\n",
    "    raw_data=raw_data,\n",
    "    baseline=baseline,\n",
    "    baseline_corrected=baseline_corrected,\n",
    "    normalized=normalized,\n",
    "    separate_plots=separate_plots,\n",
    "    include_replicates=include_replicates,\n",
    "    zoom=zoom,\n",
    ")"
   ]
  },
  {
   "cell_type": "markdown",
   "id": "254fcae0",
   "metadata": {},
   "source": [
    "## 2) Baseline Correction"
   ]
  },
  {
   "cell_type": "markdown",
   "id": "b70d7422",
   "metadata": {},
   "source": [
    "You can choose a baseline approximation function for each different material that you have data for. It's recommended that you use 'ARPLS' with tweaked parameters or use 'Manual'. However, some datasets work better with different methods, so experiment if necessary.\n",
    "\n",
    "Baseline Options:\n",
    "\n",
    "Asymmetric Least Square \n",
    "\n",
    "    'ARPLS': asymmetrically reweighted penalized least squares smoothing-- an asymmetric least square method that uses a weighting function to account for noisy data.\n",
    "\n",
    "Spline\n",
    "\n",
    "    'IRSQR': iterative reweighted spline quantile regression-- uses penalized splines and iterative reweighted least squares to perform quantile regression.\n",
    "\n",
    "Classification\n",
    "\n",
    "    'FABC': fully automatic baseline correction-- uses first derivative approximation of data to identify and then ignore peak regions, then fits to baseline regions using Whittaker smoothing.\n",
    "\n",
    "Manual\n",
    "\n",
    "    'Manual': set \"anchor points\" for each of your materials using the built-in tool. This will create a list of wavenumber values that should always fall in the baseline regions for each spectrum of that material. A cubic spline interpolation will be done between those points' values in each scan."
   ]
  },
  {
   "cell_type": "markdown",
   "id": "63de6414",
   "metadata": {},
   "source": [
    "### Baselines\n",
    "Try out different baseline types and parameter options. The function will find the first file of your selected material with time == 0 (aka non-degraded) and display what the currently chosen settings will create for a baseline."
   ]
  },
  {
   "cell_type": "markdown",
   "id": "db9338dd",
   "metadata": {},
   "source": [
    "#### For non-manual baselines:\n",
    "For custom parameters, move sliders or type desired value into box and hit 'enter'.\n",
    "\n",
    "Accepts a filepath as an argument if you want to experiment with a specific file. In that case, \"material\" argument will be ignored.\n",
    "\n",
    "Close when complete."
   ]
  },
  {
   "cell_type": "code",
   "execution_count": null,
   "id": "08671e15",
   "metadata": {},
   "outputs": [],
   "source": [
    "filepath = None  # If None, will find first Time-Zero file of the specified material\n",
    "material = \"PPE\"  # Specify material to analyze (e.g., \"PPE\", with quotes).\n",
    "baseline_function = \"ARPLS\"  # Specify baseline function to try (options: \n",
    "# \"ARPLS\", \"IRSQR\", \"FABC\", quotes included).\n",
    "parameter_string = None  # For custom parameters, structure like so: \n",
    "# parameter_string=\"lam=100, quantile=0.05\". Default parameters will be used if None.\n",
    "\n",
    "try_baseline(\n",
    "    FTIR_DataFrame,\n",
    "    material=material,\n",
    "    baseline_function=baseline_function,\n",
    "    filepath=filepath,\n",
    ")"
   ]
  },
  {
   "cell_type": "markdown",
   "id": "b7390268",
   "metadata": {},
   "source": [
    "#### For manual baseline:\n",
    "If an error appears on repeated running of this cell, simply click 'continue' and scroll down-- the error will clear."
   ]
  },
  {
   "cell_type": "code",
   "execution_count": null,
   "id": "371be43f",
   "metadata": {},
   "outputs": [],
   "source": [
    "filepath = None  # If None, will find first Time-Zero file of the specified material\n",
    "material = \"CPC\"\n",
    "anchor_points_selection(\n",
    "    FTIR_DataFrame,\n",
    "    material=material,\n",
    "    filepath=filepath,\n",
    "    try_it_out=True\n",
    ")"
   ]
  },
  {
   "cell_type": "markdown",
   "id": "66a417cf",
   "metadata": {},
   "source": [
    "#### ARPLS Parameters\n",
    "lam (float): Smoothness parameter (higher = smoother baseline).\n",
    "\n",
    "diff_order (integer): Order of the differential matrix.\n",
    "\n",
    "max_iter (integer): Max number of fit iterations.\n",
    "\n",
    "tol (float): Exit criteria (accuracy goal)."
   ]
  },
  {
   "cell_type": "markdown",
   "id": "1e829e29",
   "metadata": {},
   "source": [
    "#### IRSQR Parameters\n",
    "lam (float): The smoothing parameter (higher = smoother baseline).\n",
    "\n",
    "quantile (float): The quantile at which to fit the baseline (0 < quantile < 1).\n",
    "\n",
    "num_knots (integer): The number of knots for the spline.\n",
    "\n",
    "spline_degree (integer): The degree of the spline.\n",
    "\n",
    "diff_order (integer): The order of the differential matrix. Must be greate matrix). Typical values are 3, 2, or 1.\n",
    "\n",
    "max_iter (integer): The max number of fit iterations.\n",
    "\n",
    "tol (float): Exit criteria (accuracy goal).\n",
    "\n",
    "weights (array-like): The weighting array. If None (default), then the initial weights will be an array with size equal to N and all values set to 1.\n",
    "\n",
    "eps (float): A small value added to the square of the residual to prevent dividing by 0. Default is None, which uses the square of the maximum-absolute-value of the fit each iteration multiplied by 1e-6."
   ]
  },
  {
   "cell_type": "markdown",
   "id": "12707a81",
   "metadata": {},
   "source": [
    "#### FABC Parameters\n",
    "lam (float): The smoothing parameter (higher = smoother baseline).\n",
    "\n",
    "scale (integer): The scale at which to calculate the continuous wavelet transform. Should be approximately equal to the index-based full-width-at-half-maximum of the peaks or features in the data. Default is None, which will use half of the value from :func:`.optimize_window`, which is not always a good value, but at least scales with the number of data points and gives a starting point for tuning the parameter.\n",
    "\n",
    "num_std (float): The number of standard deviations to include when thresholding. Higher values\n",
    "will assign more points as baseline.\n",
    "\n",
    "diff_order (integer): The order of the differential matrix. Must be greater than 0. Typical values are 2 or 1.\n",
    "\n",
    "min_length (integer): Any region of consecutive baseline points less than `min_length` is considered to be a false positive and all points in the region are converted to peak points. A higher `min_length` ensures less points are falsely assigned as baseline points. Default is 2, which only removes lone baseline points.\n",
    "\n",
    "weights (array-like): The weighting array, used to override the function's baseline identification to designate peak points. Only elements with 0 or False values will have an effect; all non-zero values are considered baseline points. If None, then will be an array with size equal to N and all values set to 1.\n",
    "\n",
    "weights_as_mask (bool): If True, signifies that the input `weights` is the mask to use for fitting, which skips the continuous wavelet calculation and just smooths the input data.\n",
    "\n",
    "pad_kwargs (dict): A dictionary of keyword arguments to pass to :func:`.pad_edges` for padding the edges of the data to prevent edge effects from convolution for the continuous wavelet transform. Default is None."
   ]
  },
  {
   "cell_type": "markdown",
   "id": "963f3c89",
   "metadata": {},
   "source": [
    "#### Manual Parameters\n",
    "anchor_points (float): The manually selected anchor points, from which the baseline is constructed via a cubic spline interpolation between them. The points are selected in one file from the regions that should always remain outside of peaks for that material, under reasonable degradation conditions. The points associated with these wavenumbers will be accessed in each file and a separate interpolation will be done for each one. So while the anchor points are the same in every spectrum, the actual baseline correction will be personalized for each."
   ]
  },
  {
   "cell_type": "markdown",
   "id": "d440147b",
   "metadata": {},
   "source": [
    "### Test Baseline and Parameter Choices\n",
    "Generates plots with the selected baseline and parameters for three random files of the specified material. Allows for quality check."
   ]
  },
  {
   "cell_type": "code",
   "execution_count": null,
   "id": "628c80d4",
   "metadata": {},
   "outputs": [],
   "source": [
    "material = \"PPE\"  # Specify material to analyze (e.g., \"PPE\", with quotes).\n",
    "test_baseline_choices(FTIR_DataFrame, material=material)"
   ]
  },
  {
   "cell_type": "markdown",
   "id": "b01b9297",
   "metadata": {},
   "source": [
    "### Confirm & Calculate Choices\n",
    "Calculates the baseline-corrected spectra and updates the DataFrame with the new data."
   ]
  },
  {
   "cell_type": "code",
   "execution_count": null,
   "id": "68433118",
   "metadata": {},
   "outputs": [],
   "source": [
    "materials = \"PPE\"  # Specify materials to correct (e.g., \"PPE, PVF\", or \"all\").\n",
    "FTIR_DataFrame = baseline_correction(FTIR_DataFrame, materials=materials)"
   ]
  },
  {
   "cell_type": "markdown",
   "id": "08e6e58c",
   "metadata": {},
   "source": [
    "## 3) Normalization"
   ]
  },
  {
   "cell_type": "markdown",
   "id": "3f5beab2",
   "metadata": {},
   "source": [
    "### Normalization Peak Selection\n",
    "Select a peak for each material that does not change shape with time (aka does not degrade). Each spectrum of that material will be scaled so that the normalization peak is the same amplitude in each, giving a normalized set of spectra that can be more accurately compared to each other."
   ]
  },
  {
   "cell_type": "code",
   "execution_count": null,
   "id": "a495f57e",
   "metadata": {},
   "outputs": [],
   "source": [
    "material = \"PPE\" # Specify material to analyze (e.g., \"PPE\", with quotes).\n",
    "filepath = None  # If None, will find first Time-Zero file of the specified material. If\n",
    "# specified, should be full file path as string with r\"\" (e.g., r\"C:\\path\\to\\file.dpt\").\n",
    "FTIR_DataFrame = normalization_peak_selection(\n",
    "    FTIR_DataFrame, material=material, filepath=filepath\n",
    "    )"
   ]
  },
  {
   "cell_type": "markdown",
   "id": "b539ec22",
   "metadata": {},
   "source": [
    "### Spectra Normalization\n",
    "Normalize the spectra of the chosen material to allow for further analysis."
   ]
  },
  {
   "cell_type": "code",
   "execution_count": null,
   "id": "8970cf5a",
   "metadata": {},
   "outputs": [],
   "source": [
    "material = \"PPE\"  # Specify material to analyze (e.g., \"PPE\", with quotes).\n",
    "FTIR_DataFrame = spectrum_normalization(FTIR_DataFrame, material=material)"
   ]
  },
  {
   "cell_type": "markdown",
   "id": "88f04e6b",
   "metadata": {},
   "source": [
    "## 4) Peak Finding & Deconvolution"
   ]
  },
  {
   "cell_type": "markdown",
   "id": "07bb4936",
   "metadata": {},
   "source": [
    "### Peak Finding\n",
    "Utilize range 2 and range 3 within the interactive tool in order to specify multiple peak regions.\n",
    "\n",
    "Close when complete."
   ]
  },
  {
   "cell_type": "code",
   "execution_count": null,
   "id": "efd9b617",
   "metadata": {},
   "outputs": [],
   "source": [
    "materials = \"PPE\"  # Specify materials to find peaks for (e.g., \"PPE, PVF\", or \"all\").\n",
    "filepath = None # If not None, will override material search and use specified filename\n",
    "FTIR_DataFrame = find_peak_info(FTIR_DataFrame, materials=materials, filepath=filepath)"
   ]
  },
  {
   "cell_type": "markdown",
   "id": "0235d9ae",
   "metadata": {},
   "source": [
    "### Single Spectrum Deconvolution\n",
    "If a peak should be steeper (go towards zero faster as it leaves its center point), then decrease that peak's α value. If a peak should be wider, do the opposite. The \"Reduced chi-square\" value is an approximation of the error between the model and the data, but visual tests are also useful for that purpose.\n",
    "\n",
    "Offers automated parameter modification, though this takes some time."
   ]
  },
  {
   "cell_type": "code",
   "execution_count": 3,
   "id": "5296e0a6",
   "metadata": {},
   "outputs": [
    {
     "data": {
      "application/vnd.jupyter.widget-view+json": {
       "model_id": "a2360b22c1784c9e84eec2781306706f",
       "version_major": 2,
       "version_minor": 0
      },
      "text/plain": [
       "VBox(children=(HBox(children=(Dropdown(description='Material', layout=Layout(width='40%'), options=('any', 'PP…"
      ]
     },
     "metadata": {},
     "output_type": "display_data"
    },
    {
     "data": {
      "application/vnd.jupyter.widget-view+json": {
       "model_id": "f77bda5acc2243dd89f27ed141a86864",
       "version_major": 2,
       "version_minor": 0
      },
      "text/plain": [
       "FigureWidget({\n",
       "    'data': [{'mode': 'lines',\n",
       "              'name': 'Data (Norm+Corr)',\n",
       "              'type': 'scatter',\n",
       "              'uid': '4caadd86-0456-4348-9857-8a2c852b9baf',\n",
       "              'x': {'bdata': ('vyuC/608r0AG2EennjqvQE2EDU+POK' ... '7jwgEbeUA4oRABhwp5QHEDPj8M+nhA'),\n",
       "                    'dtype': 'f8'},\n",
       "              'y': {'bdata': ('nVYQQ06cLD8EaQJ5g9kQPwPTL1JPhy' ... 'Emeg96Tj9xTsBLRFlYv0J+syxAcWG/'),\n",
       "                    'dtype': 'f8'}},\n",
       "             {'line': {'color': 'red'},\n",
       "              'mode': 'lines',\n",
       "              'name': 'Composite Fit',\n",
       "              'type': 'scatter',\n",
       "              'uid': '71be6788-d8f0-49c4-97d4-35e9c0800632',\n",
       "              'x': [],\n",
       "              'y': []}],\n",
       "    'layout': {'template': '...',\n",
       "               'title': {'text': 'Peak Deconvolution (Pseudo-Voigt)'},\n",
       "               'xaxis': {'title': {'text': 'Wavenumber (cm⁻¹)'}},\n",
       "               'yaxis': {'title': {'text': 'Absorbance (AU)'}}}\n",
       "})"
      ]
     },
     "metadata": {},
     "output_type": "display_data"
    },
    {
     "data": {
      "application/vnd.jupyter.widget-view+json": {
       "model_id": "6b4b76d8131a46f7bf2bba69430e8788",
       "version_major": 2,
       "version_minor": 0
      },
      "text/plain": [
       "Output()"
      ]
     },
     "metadata": {},
     "output_type": "display_data"
    },
    {
     "ename": "ValueError",
     "evalue": "The truth value of an array with more than one element is ambiguous. Use a.any() or a.all()",
     "output_type": "error",
     "traceback": [
      "\u001b[31m---------------------------------------------------------------------------\u001b[39m",
      "\u001b[31mValueError\u001b[39m                                Traceback (most recent call last)",
      "\u001b[36mFile \u001b[39m\u001b[32mc:\\Users\\twells\\AppData\\Local\\miniconda3\\envs\\FTIR-SCAN\\Lib\\site-packages\\ipywidgets\\widgets\\widget.py:773\u001b[39m, in \u001b[36mWidget._handle_msg\u001b[39m\u001b[34m(self, msg)\u001b[39m\n\u001b[32m    771\u001b[39m         \u001b[38;5;28;01mif\u001b[39;00m \u001b[33m'\u001b[39m\u001b[33mbuffer_paths\u001b[39m\u001b[33m'\u001b[39m \u001b[38;5;129;01min\u001b[39;00m data:\n\u001b[32m    772\u001b[39m             _put_buffers(state, data[\u001b[33m'\u001b[39m\u001b[33mbuffer_paths\u001b[39m\u001b[33m'\u001b[39m], msg[\u001b[33m'\u001b[39m\u001b[33mbuffers\u001b[39m\u001b[33m'\u001b[39m])\n\u001b[32m--> \u001b[39m\u001b[32m773\u001b[39m         \u001b[38;5;28;43mself\u001b[39;49m\u001b[43m.\u001b[49m\u001b[43mset_state\u001b[49m\u001b[43m(\u001b[49m\u001b[43mstate\u001b[49m\u001b[43m)\u001b[49m\n\u001b[32m    775\u001b[39m \u001b[38;5;66;03m# Handle a state request.\u001b[39;00m\n\u001b[32m    776\u001b[39m \u001b[38;5;28;01melif\u001b[39;00m method == \u001b[33m'\u001b[39m\u001b[33mrequest_state\u001b[39m\u001b[33m'\u001b[39m:\n",
      "\u001b[36mFile \u001b[39m\u001b[32mc:\\Users\\twells\\AppData\\Local\\miniconda3\\envs\\FTIR-SCAN\\Lib\\site-packages\\ipywidgets\\widgets\\widget.py:650\u001b[39m, in \u001b[36mWidget.set_state\u001b[39m\u001b[34m(self, sync_data)\u001b[39m\n\u001b[32m    645\u001b[39m         \u001b[38;5;28mself\u001b[39m._send(msg, buffers=echo_buffers)\n\u001b[32m    647\u001b[39m \u001b[38;5;66;03m# The order of these context managers is important. Properties must\u001b[39;00m\n\u001b[32m    648\u001b[39m \u001b[38;5;66;03m# be locked when the hold_trait_notification context manager is\u001b[39;00m\n\u001b[32m    649\u001b[39m \u001b[38;5;66;03m# released and notifications are fired.\u001b[39;00m\n\u001b[32m--> \u001b[39m\u001b[32m650\u001b[39m \u001b[43m\u001b[49m\u001b[38;5;28;43;01mwith\u001b[39;49;00m\u001b[43m \u001b[49m\u001b[38;5;28;43mself\u001b[39;49m\u001b[43m.\u001b[49m\u001b[43m_lock_property\u001b[49m\u001b[43m(\u001b[49m\u001b[43m*\u001b[49m\u001b[43m*\u001b[49m\u001b[43msync_data\u001b[49m\u001b[43m)\u001b[49m\u001b[43m,\u001b[49m\u001b[43m \u001b[49m\u001b[38;5;28;43mself\u001b[39;49m\u001b[43m.\u001b[49m\u001b[43mhold_trait_notifications\u001b[49m\u001b[43m(\u001b[49m\u001b[43m)\u001b[49m\u001b[43m:\u001b[49m\n\u001b[32m    651\u001b[39m \u001b[43m    \u001b[49m\u001b[38;5;28;43;01mfor\u001b[39;49;00m\u001b[43m \u001b[49m\u001b[43mname\u001b[49m\u001b[43m \u001b[49m\u001b[38;5;129;43;01min\u001b[39;49;00m\u001b[43m \u001b[49m\u001b[43msync_data\u001b[49m\u001b[43m:\u001b[49m\n\u001b[32m    652\u001b[39m \u001b[43m        \u001b[49m\u001b[38;5;28;43;01mif\u001b[39;49;00m\u001b[43m \u001b[49m\u001b[43mname\u001b[49m\u001b[43m \u001b[49m\u001b[38;5;129;43;01min\u001b[39;49;00m\u001b[43m \u001b[49m\u001b[38;5;28;43mself\u001b[39;49m\u001b[43m.\u001b[49m\u001b[43mkeys\u001b[49m\u001b[43m:\u001b[49m\n",
      "\u001b[36mFile \u001b[39m\u001b[32mc:\\Users\\twells\\AppData\\Local\\miniconda3\\envs\\FTIR-SCAN\\Lib\\contextlib.py:148\u001b[39m, in \u001b[36m_GeneratorContextManager.__exit__\u001b[39m\u001b[34m(self, typ, value, traceback)\u001b[39m\n\u001b[32m    146\u001b[39m \u001b[38;5;28;01mif\u001b[39;00m typ \u001b[38;5;129;01mis\u001b[39;00m \u001b[38;5;28;01mNone\u001b[39;00m:\n\u001b[32m    147\u001b[39m     \u001b[38;5;28;01mtry\u001b[39;00m:\n\u001b[32m--> \u001b[39m\u001b[32m148\u001b[39m         \u001b[38;5;28;43mnext\u001b[39;49m\u001b[43m(\u001b[49m\u001b[38;5;28;43mself\u001b[39;49m\u001b[43m.\u001b[49m\u001b[43mgen\u001b[49m\u001b[43m)\u001b[49m\n\u001b[32m    149\u001b[39m     \u001b[38;5;28;01mexcept\u001b[39;00m \u001b[38;5;167;01mStopIteration\u001b[39;00m:\n\u001b[32m    150\u001b[39m         \u001b[38;5;28;01mreturn\u001b[39;00m \u001b[38;5;28;01mFalse\u001b[39;00m\n",
      "\u001b[36mFile \u001b[39m\u001b[32m~\\AppData\\Roaming\\Python\\Python313\\site-packages\\traitlets\\traitlets.py:1510\u001b[39m, in \u001b[36mHasTraits.hold_trait_notifications\u001b[39m\u001b[34m(self)\u001b[39m\n\u001b[32m   1508\u001b[39m \u001b[38;5;28;01mfor\u001b[39;00m changes \u001b[38;5;129;01min\u001b[39;00m cache.values():\n\u001b[32m   1509\u001b[39m     \u001b[38;5;28;01mfor\u001b[39;00m change \u001b[38;5;129;01min\u001b[39;00m changes:\n\u001b[32m-> \u001b[39m\u001b[32m1510\u001b[39m         \u001b[38;5;28;43mself\u001b[39;49m\u001b[43m.\u001b[49m\u001b[43mnotify_change\u001b[49m\u001b[43m(\u001b[49m\u001b[43mchange\u001b[49m\u001b[43m)\u001b[49m\n",
      "\u001b[36mFile \u001b[39m\u001b[32mc:\\Users\\twells\\AppData\\Local\\miniconda3\\envs\\FTIR-SCAN\\Lib\\site-packages\\ipywidgets\\widgets\\widget.py:701\u001b[39m, in \u001b[36mWidget.notify_change\u001b[39m\u001b[34m(self, change)\u001b[39m\n\u001b[32m    698\u001b[39m     \u001b[38;5;28;01mif\u001b[39;00m name \u001b[38;5;129;01min\u001b[39;00m \u001b[38;5;28mself\u001b[39m.keys \u001b[38;5;129;01mand\u001b[39;00m \u001b[38;5;28mself\u001b[39m._should_send_property(name, \u001b[38;5;28mgetattr\u001b[39m(\u001b[38;5;28mself\u001b[39m, name)):\n\u001b[32m    699\u001b[39m         \u001b[38;5;66;03m# Send new state to front-end\u001b[39;00m\n\u001b[32m    700\u001b[39m         \u001b[38;5;28mself\u001b[39m.send_state(key=name)\n\u001b[32m--> \u001b[39m\u001b[32m701\u001b[39m \u001b[38;5;28;43msuper\u001b[39;49m\u001b[43m(\u001b[49m\u001b[43m)\u001b[49m\u001b[43m.\u001b[49m\u001b[43mnotify_change\u001b[49m\u001b[43m(\u001b[49m\u001b[43mchange\u001b[49m\u001b[43m)\u001b[49m\n",
      "\u001b[36mFile \u001b[39m\u001b[32m~\\AppData\\Roaming\\Python\\Python313\\site-packages\\traitlets\\traitlets.py:1525\u001b[39m, in \u001b[36mHasTraits.notify_change\u001b[39m\u001b[34m(self, change)\u001b[39m\n\u001b[32m   1523\u001b[39m \u001b[38;5;28;01mdef\u001b[39;00m\u001b[38;5;250m \u001b[39m\u001b[34mnotify_change\u001b[39m(\u001b[38;5;28mself\u001b[39m, change: Bunch) -> \u001b[38;5;28;01mNone\u001b[39;00m:\n\u001b[32m   1524\u001b[39m \u001b[38;5;250m    \u001b[39m\u001b[33;03m\"\"\"Notify observers of a change event\"\"\"\u001b[39;00m\n\u001b[32m-> \u001b[39m\u001b[32m1525\u001b[39m     \u001b[38;5;28;01mreturn\u001b[39;00m \u001b[38;5;28;43mself\u001b[39;49m\u001b[43m.\u001b[49m\u001b[43m_notify_observers\u001b[49m\u001b[43m(\u001b[49m\u001b[43mchange\u001b[49m\u001b[43m)\u001b[49m\n",
      "\u001b[36mFile \u001b[39m\u001b[32m~\\AppData\\Roaming\\Python\\Python313\\site-packages\\traitlets\\traitlets.py:1568\u001b[39m, in \u001b[36mHasTraits._notify_observers\u001b[39m\u001b[34m(self, event)\u001b[39m\n\u001b[32m   1565\u001b[39m \u001b[38;5;28;01melif\u001b[39;00m \u001b[38;5;28misinstance\u001b[39m(c, EventHandler) \u001b[38;5;129;01mand\u001b[39;00m c.name \u001b[38;5;129;01mis\u001b[39;00m \u001b[38;5;129;01mnot\u001b[39;00m \u001b[38;5;28;01mNone\u001b[39;00m:\n\u001b[32m   1566\u001b[39m     c = \u001b[38;5;28mgetattr\u001b[39m(\u001b[38;5;28mself\u001b[39m, c.name)\n\u001b[32m-> \u001b[39m\u001b[32m1568\u001b[39m \u001b[43mc\u001b[49m\u001b[43m(\u001b[49m\u001b[43mevent\u001b[49m\u001b[43m)\u001b[49m\n",
      "\u001b[36mFile \u001b[39m\u001b[32mc:\\Users\\twells\\AppData\\Local\\miniconda3\\envs\\FTIR-SCAN\\Lib\\site-packages\\plotly\\basewidget.py:458\u001b[39m, in \u001b[36mBaseFigureWidget._handler_js2py_traceDeltas\u001b[39m\u001b[34m(self, change)\u001b[39m\n\u001b[32m    451\u001b[39m delta_transform = BaseFigureWidget._transform_data(\n\u001b[32m    452\u001b[39m     uid_trace._prop_defaults, delta\n\u001b[32m    453\u001b[39m )\n\u001b[32m    455\u001b[39m \u001b[38;5;66;03m# #### Remove overlapping properties ####\u001b[39;00m\n\u001b[32m    456\u001b[39m \u001b[38;5;66;03m# If a property is present in both _props and _prop_defaults\u001b[39;00m\n\u001b[32m    457\u001b[39m \u001b[38;5;66;03m# then we remove the copy from _props\u001b[39;00m\n\u001b[32m--> \u001b[39m\u001b[32m458\u001b[39m remove_props = \u001b[38;5;28;43mself\u001b[39;49m\u001b[43m.\u001b[49m\u001b[43m_remove_overlapping_props\u001b[49m\u001b[43m(\u001b[49m\n\u001b[32m    459\u001b[39m \u001b[43m    \u001b[49m\u001b[43muid_trace\u001b[49m\u001b[43m.\u001b[49m\u001b[43m_props\u001b[49m\u001b[43m,\u001b[49m\u001b[43m \u001b[49m\u001b[43muid_trace\u001b[49m\u001b[43m.\u001b[49m\u001b[43m_prop_defaults\u001b[49m\n\u001b[32m    460\u001b[39m \u001b[43m\u001b[49m\u001b[43m)\u001b[49m\n\u001b[32m    462\u001b[39m \u001b[38;5;66;03m# #### Notify frontend model of property removal ####\u001b[39;00m\n\u001b[32m    463\u001b[39m \u001b[38;5;28;01mif\u001b[39;00m remove_props:\n",
      "\u001b[36mFile \u001b[39m\u001b[32mc:\\Users\\twells\\AppData\\Local\\miniconda3\\envs\\FTIR-SCAN\\Lib\\site-packages\\plotly\\basewidget.py:849\u001b[39m, in \u001b[36mBaseFigureWidget._remove_overlapping_props\u001b[39m\u001b[34m(input_data, delta_data, prop_path)\u001b[39m\n\u001b[32m    845\u001b[39m removed.extend(recur_removed)\n\u001b[32m    847\u001b[39m \u001b[38;5;66;03m# Check whether the last property in input_val\u001b[39;00m\n\u001b[32m    848\u001b[39m \u001b[38;5;66;03m# has been removed. If so, remove it entirely\u001b[39;00m\n\u001b[32m--> \u001b[39m\u001b[32m849\u001b[39m \u001b[38;5;28;01mif\u001b[39;00m \u001b[38;5;129;01mnot\u001b[39;00m input_val:\n\u001b[32m    850\u001b[39m     input_data.pop(p)\n\u001b[32m    851\u001b[39m     removed.append(recur_prop_path)\n",
      "\u001b[31mValueError\u001b[39m: The truth value of an array with more than one element is ambiguous. Use a.any() or a.all()"
     ]
    },
    {
     "ename": "ValueError",
     "evalue": "The truth value of an array with more than one element is ambiguous. Use a.any() or a.all()",
     "output_type": "error",
     "traceback": [
      "\u001b[31m---------------------------------------------------------------------------\u001b[39m",
      "\u001b[31mValueError\u001b[39m                                Traceback (most recent call last)",
      "\u001b[36mFile \u001b[39m\u001b[32mc:\\Users\\twells\\AppData\\Local\\miniconda3\\envs\\FTIR-SCAN\\Lib\\site-packages\\ipywidgets\\widgets\\widget.py:773\u001b[39m, in \u001b[36mWidget._handle_msg\u001b[39m\u001b[34m(self, msg)\u001b[39m\n\u001b[32m    771\u001b[39m         \u001b[38;5;28;01mif\u001b[39;00m \u001b[33m'\u001b[39m\u001b[33mbuffer_paths\u001b[39m\u001b[33m'\u001b[39m \u001b[38;5;129;01min\u001b[39;00m data:\n\u001b[32m    772\u001b[39m             _put_buffers(state, data[\u001b[33m'\u001b[39m\u001b[33mbuffer_paths\u001b[39m\u001b[33m'\u001b[39m], msg[\u001b[33m'\u001b[39m\u001b[33mbuffers\u001b[39m\u001b[33m'\u001b[39m])\n\u001b[32m--> \u001b[39m\u001b[32m773\u001b[39m         \u001b[38;5;28;43mself\u001b[39;49m\u001b[43m.\u001b[49m\u001b[43mset_state\u001b[49m\u001b[43m(\u001b[49m\u001b[43mstate\u001b[49m\u001b[43m)\u001b[49m\n\u001b[32m    775\u001b[39m \u001b[38;5;66;03m# Handle a state request.\u001b[39;00m\n\u001b[32m    776\u001b[39m \u001b[38;5;28;01melif\u001b[39;00m method == \u001b[33m'\u001b[39m\u001b[33mrequest_state\u001b[39m\u001b[33m'\u001b[39m:\n",
      "\u001b[36mFile \u001b[39m\u001b[32mc:\\Users\\twells\\AppData\\Local\\miniconda3\\envs\\FTIR-SCAN\\Lib\\site-packages\\ipywidgets\\widgets\\widget.py:650\u001b[39m, in \u001b[36mWidget.set_state\u001b[39m\u001b[34m(self, sync_data)\u001b[39m\n\u001b[32m    645\u001b[39m         \u001b[38;5;28mself\u001b[39m._send(msg, buffers=echo_buffers)\n\u001b[32m    647\u001b[39m \u001b[38;5;66;03m# The order of these context managers is important. Properties must\u001b[39;00m\n\u001b[32m    648\u001b[39m \u001b[38;5;66;03m# be locked when the hold_trait_notification context manager is\u001b[39;00m\n\u001b[32m    649\u001b[39m \u001b[38;5;66;03m# released and notifications are fired.\u001b[39;00m\n\u001b[32m--> \u001b[39m\u001b[32m650\u001b[39m \u001b[43m\u001b[49m\u001b[38;5;28;43;01mwith\u001b[39;49;00m\u001b[43m \u001b[49m\u001b[38;5;28;43mself\u001b[39;49m\u001b[43m.\u001b[49m\u001b[43m_lock_property\u001b[49m\u001b[43m(\u001b[49m\u001b[43m*\u001b[49m\u001b[43m*\u001b[49m\u001b[43msync_data\u001b[49m\u001b[43m)\u001b[49m\u001b[43m,\u001b[49m\u001b[43m \u001b[49m\u001b[38;5;28;43mself\u001b[39;49m\u001b[43m.\u001b[49m\u001b[43mhold_trait_notifications\u001b[49m\u001b[43m(\u001b[49m\u001b[43m)\u001b[49m\u001b[43m:\u001b[49m\n\u001b[32m    651\u001b[39m \u001b[43m    \u001b[49m\u001b[38;5;28;43;01mfor\u001b[39;49;00m\u001b[43m \u001b[49m\u001b[43mname\u001b[49m\u001b[43m \u001b[49m\u001b[38;5;129;43;01min\u001b[39;49;00m\u001b[43m \u001b[49m\u001b[43msync_data\u001b[49m\u001b[43m:\u001b[49m\n\u001b[32m    652\u001b[39m \u001b[43m        \u001b[49m\u001b[38;5;28;43;01mif\u001b[39;49;00m\u001b[43m \u001b[49m\u001b[43mname\u001b[49m\u001b[43m \u001b[49m\u001b[38;5;129;43;01min\u001b[39;49;00m\u001b[43m \u001b[49m\u001b[38;5;28;43mself\u001b[39;49m\u001b[43m.\u001b[49m\u001b[43mkeys\u001b[49m\u001b[43m:\u001b[49m\n",
      "\u001b[36mFile \u001b[39m\u001b[32mc:\\Users\\twells\\AppData\\Local\\miniconda3\\envs\\FTIR-SCAN\\Lib\\contextlib.py:148\u001b[39m, in \u001b[36m_GeneratorContextManager.__exit__\u001b[39m\u001b[34m(self, typ, value, traceback)\u001b[39m\n\u001b[32m    146\u001b[39m \u001b[38;5;28;01mif\u001b[39;00m typ \u001b[38;5;129;01mis\u001b[39;00m \u001b[38;5;28;01mNone\u001b[39;00m:\n\u001b[32m    147\u001b[39m     \u001b[38;5;28;01mtry\u001b[39;00m:\n\u001b[32m--> \u001b[39m\u001b[32m148\u001b[39m         \u001b[38;5;28;43mnext\u001b[39;49m\u001b[43m(\u001b[49m\u001b[38;5;28;43mself\u001b[39;49m\u001b[43m.\u001b[49m\u001b[43mgen\u001b[49m\u001b[43m)\u001b[49m\n\u001b[32m    149\u001b[39m     \u001b[38;5;28;01mexcept\u001b[39;00m \u001b[38;5;167;01mStopIteration\u001b[39;00m:\n\u001b[32m    150\u001b[39m         \u001b[38;5;28;01mreturn\u001b[39;00m \u001b[38;5;28;01mFalse\u001b[39;00m\n",
      "\u001b[36mFile \u001b[39m\u001b[32m~\\AppData\\Roaming\\Python\\Python313\\site-packages\\traitlets\\traitlets.py:1510\u001b[39m, in \u001b[36mHasTraits.hold_trait_notifications\u001b[39m\u001b[34m(self)\u001b[39m\n\u001b[32m   1508\u001b[39m \u001b[38;5;28;01mfor\u001b[39;00m changes \u001b[38;5;129;01min\u001b[39;00m cache.values():\n\u001b[32m   1509\u001b[39m     \u001b[38;5;28;01mfor\u001b[39;00m change \u001b[38;5;129;01min\u001b[39;00m changes:\n\u001b[32m-> \u001b[39m\u001b[32m1510\u001b[39m         \u001b[38;5;28;43mself\u001b[39;49m\u001b[43m.\u001b[49m\u001b[43mnotify_change\u001b[49m\u001b[43m(\u001b[49m\u001b[43mchange\u001b[49m\u001b[43m)\u001b[49m\n",
      "\u001b[36mFile \u001b[39m\u001b[32mc:\\Users\\twells\\AppData\\Local\\miniconda3\\envs\\FTIR-SCAN\\Lib\\site-packages\\ipywidgets\\widgets\\widget.py:701\u001b[39m, in \u001b[36mWidget.notify_change\u001b[39m\u001b[34m(self, change)\u001b[39m\n\u001b[32m    698\u001b[39m     \u001b[38;5;28;01mif\u001b[39;00m name \u001b[38;5;129;01min\u001b[39;00m \u001b[38;5;28mself\u001b[39m.keys \u001b[38;5;129;01mand\u001b[39;00m \u001b[38;5;28mself\u001b[39m._should_send_property(name, \u001b[38;5;28mgetattr\u001b[39m(\u001b[38;5;28mself\u001b[39m, name)):\n\u001b[32m    699\u001b[39m         \u001b[38;5;66;03m# Send new state to front-end\u001b[39;00m\n\u001b[32m    700\u001b[39m         \u001b[38;5;28mself\u001b[39m.send_state(key=name)\n\u001b[32m--> \u001b[39m\u001b[32m701\u001b[39m \u001b[38;5;28;43msuper\u001b[39;49m\u001b[43m(\u001b[49m\u001b[43m)\u001b[49m\u001b[43m.\u001b[49m\u001b[43mnotify_change\u001b[49m\u001b[43m(\u001b[49m\u001b[43mchange\u001b[49m\u001b[43m)\u001b[49m\n",
      "\u001b[36mFile \u001b[39m\u001b[32m~\\AppData\\Roaming\\Python\\Python313\\site-packages\\traitlets\\traitlets.py:1525\u001b[39m, in \u001b[36mHasTraits.notify_change\u001b[39m\u001b[34m(self, change)\u001b[39m\n\u001b[32m   1523\u001b[39m \u001b[38;5;28;01mdef\u001b[39;00m\u001b[38;5;250m \u001b[39m\u001b[34mnotify_change\u001b[39m(\u001b[38;5;28mself\u001b[39m, change: Bunch) -> \u001b[38;5;28;01mNone\u001b[39;00m:\n\u001b[32m   1524\u001b[39m \u001b[38;5;250m    \u001b[39m\u001b[33;03m\"\"\"Notify observers of a change event\"\"\"\u001b[39;00m\n\u001b[32m-> \u001b[39m\u001b[32m1525\u001b[39m     \u001b[38;5;28;01mreturn\u001b[39;00m \u001b[38;5;28;43mself\u001b[39;49m\u001b[43m.\u001b[49m\u001b[43m_notify_observers\u001b[49m\u001b[43m(\u001b[49m\u001b[43mchange\u001b[49m\u001b[43m)\u001b[49m\n",
      "\u001b[36mFile \u001b[39m\u001b[32m~\\AppData\\Roaming\\Python\\Python313\\site-packages\\traitlets\\traitlets.py:1568\u001b[39m, in \u001b[36mHasTraits._notify_observers\u001b[39m\u001b[34m(self, event)\u001b[39m\n\u001b[32m   1565\u001b[39m \u001b[38;5;28;01melif\u001b[39;00m \u001b[38;5;28misinstance\u001b[39m(c, EventHandler) \u001b[38;5;129;01mand\u001b[39;00m c.name \u001b[38;5;129;01mis\u001b[39;00m \u001b[38;5;129;01mnot\u001b[39;00m \u001b[38;5;28;01mNone\u001b[39;00m:\n\u001b[32m   1566\u001b[39m     c = \u001b[38;5;28mgetattr\u001b[39m(\u001b[38;5;28mself\u001b[39m, c.name)\n\u001b[32m-> \u001b[39m\u001b[32m1568\u001b[39m \u001b[43mc\u001b[49m\u001b[43m(\u001b[49m\u001b[43mevent\u001b[49m\u001b[43m)\u001b[49m\n",
      "\u001b[36mFile \u001b[39m\u001b[32mc:\\Users\\twells\\AppData\\Local\\miniconda3\\envs\\FTIR-SCAN\\Lib\\site-packages\\plotly\\basewidget.py:458\u001b[39m, in \u001b[36mBaseFigureWidget._handler_js2py_traceDeltas\u001b[39m\u001b[34m(self, change)\u001b[39m\n\u001b[32m    451\u001b[39m delta_transform = BaseFigureWidget._transform_data(\n\u001b[32m    452\u001b[39m     uid_trace._prop_defaults, delta\n\u001b[32m    453\u001b[39m )\n\u001b[32m    455\u001b[39m \u001b[38;5;66;03m# #### Remove overlapping properties ####\u001b[39;00m\n\u001b[32m    456\u001b[39m \u001b[38;5;66;03m# If a property is present in both _props and _prop_defaults\u001b[39;00m\n\u001b[32m    457\u001b[39m \u001b[38;5;66;03m# then we remove the copy from _props\u001b[39;00m\n\u001b[32m--> \u001b[39m\u001b[32m458\u001b[39m remove_props = \u001b[38;5;28;43mself\u001b[39;49m\u001b[43m.\u001b[49m\u001b[43m_remove_overlapping_props\u001b[49m\u001b[43m(\u001b[49m\n\u001b[32m    459\u001b[39m \u001b[43m    \u001b[49m\u001b[43muid_trace\u001b[49m\u001b[43m.\u001b[49m\u001b[43m_props\u001b[49m\u001b[43m,\u001b[49m\u001b[43m \u001b[49m\u001b[43muid_trace\u001b[49m\u001b[43m.\u001b[49m\u001b[43m_prop_defaults\u001b[49m\n\u001b[32m    460\u001b[39m \u001b[43m\u001b[49m\u001b[43m)\u001b[49m\n\u001b[32m    462\u001b[39m \u001b[38;5;66;03m# #### Notify frontend model of property removal ####\u001b[39;00m\n\u001b[32m    463\u001b[39m \u001b[38;5;28;01mif\u001b[39;00m remove_props:\n",
      "\u001b[36mFile \u001b[39m\u001b[32mc:\\Users\\twells\\AppData\\Local\\miniconda3\\envs\\FTIR-SCAN\\Lib\\site-packages\\plotly\\basewidget.py:849\u001b[39m, in \u001b[36mBaseFigureWidget._remove_overlapping_props\u001b[39m\u001b[34m(input_data, delta_data, prop_path)\u001b[39m\n\u001b[32m    845\u001b[39m removed.extend(recur_removed)\n\u001b[32m    847\u001b[39m \u001b[38;5;66;03m# Check whether the last property in input_val\u001b[39;00m\n\u001b[32m    848\u001b[39m \u001b[38;5;66;03m# has been removed. If so, remove it entirely\u001b[39;00m\n\u001b[32m--> \u001b[39m\u001b[32m849\u001b[39m \u001b[38;5;28;01mif\u001b[39;00m \u001b[38;5;129;01mnot\u001b[39;00m input_val:\n\u001b[32m    850\u001b[39m     input_data.pop(p)\n\u001b[32m    851\u001b[39m     removed.append(recur_prop_path)\n",
      "\u001b[31mValueError\u001b[39m: The truth value of an array with more than one element is ambiguous. Use a.any() or a.all()"
     ]
    },
    {
     "ename": "ValueError",
     "evalue": "The truth value of an array with more than one element is ambiguous. Use a.any() or a.all()",
     "output_type": "error",
     "traceback": [
      "\u001b[31m---------------------------------------------------------------------------\u001b[39m",
      "\u001b[31mValueError\u001b[39m                                Traceback (most recent call last)",
      "\u001b[36mFile \u001b[39m\u001b[32mc:\\Users\\twells\\AppData\\Local\\miniconda3\\envs\\FTIR-SCAN\\Lib\\site-packages\\ipywidgets\\widgets\\widget.py:773\u001b[39m, in \u001b[36mWidget._handle_msg\u001b[39m\u001b[34m(self, msg)\u001b[39m\n\u001b[32m    771\u001b[39m         \u001b[38;5;28;01mif\u001b[39;00m \u001b[33m'\u001b[39m\u001b[33mbuffer_paths\u001b[39m\u001b[33m'\u001b[39m \u001b[38;5;129;01min\u001b[39;00m data:\n\u001b[32m    772\u001b[39m             _put_buffers(state, data[\u001b[33m'\u001b[39m\u001b[33mbuffer_paths\u001b[39m\u001b[33m'\u001b[39m], msg[\u001b[33m'\u001b[39m\u001b[33mbuffers\u001b[39m\u001b[33m'\u001b[39m])\n\u001b[32m--> \u001b[39m\u001b[32m773\u001b[39m         \u001b[38;5;28;43mself\u001b[39;49m\u001b[43m.\u001b[49m\u001b[43mset_state\u001b[49m\u001b[43m(\u001b[49m\u001b[43mstate\u001b[49m\u001b[43m)\u001b[49m\n\u001b[32m    775\u001b[39m \u001b[38;5;66;03m# Handle a state request.\u001b[39;00m\n\u001b[32m    776\u001b[39m \u001b[38;5;28;01melif\u001b[39;00m method == \u001b[33m'\u001b[39m\u001b[33mrequest_state\u001b[39m\u001b[33m'\u001b[39m:\n",
      "\u001b[36mFile \u001b[39m\u001b[32mc:\\Users\\twells\\AppData\\Local\\miniconda3\\envs\\FTIR-SCAN\\Lib\\site-packages\\ipywidgets\\widgets\\widget.py:650\u001b[39m, in \u001b[36mWidget.set_state\u001b[39m\u001b[34m(self, sync_data)\u001b[39m\n\u001b[32m    645\u001b[39m         \u001b[38;5;28mself\u001b[39m._send(msg, buffers=echo_buffers)\n\u001b[32m    647\u001b[39m \u001b[38;5;66;03m# The order of these context managers is important. Properties must\u001b[39;00m\n\u001b[32m    648\u001b[39m \u001b[38;5;66;03m# be locked when the hold_trait_notification context manager is\u001b[39;00m\n\u001b[32m    649\u001b[39m \u001b[38;5;66;03m# released and notifications are fired.\u001b[39;00m\n\u001b[32m--> \u001b[39m\u001b[32m650\u001b[39m \u001b[43m\u001b[49m\u001b[38;5;28;43;01mwith\u001b[39;49;00m\u001b[43m \u001b[49m\u001b[38;5;28;43mself\u001b[39;49m\u001b[43m.\u001b[49m\u001b[43m_lock_property\u001b[49m\u001b[43m(\u001b[49m\u001b[43m*\u001b[49m\u001b[43m*\u001b[49m\u001b[43msync_data\u001b[49m\u001b[43m)\u001b[49m\u001b[43m,\u001b[49m\u001b[43m \u001b[49m\u001b[38;5;28;43mself\u001b[39;49m\u001b[43m.\u001b[49m\u001b[43mhold_trait_notifications\u001b[49m\u001b[43m(\u001b[49m\u001b[43m)\u001b[49m\u001b[43m:\u001b[49m\n\u001b[32m    651\u001b[39m \u001b[43m    \u001b[49m\u001b[38;5;28;43;01mfor\u001b[39;49;00m\u001b[43m \u001b[49m\u001b[43mname\u001b[49m\u001b[43m \u001b[49m\u001b[38;5;129;43;01min\u001b[39;49;00m\u001b[43m \u001b[49m\u001b[43msync_data\u001b[49m\u001b[43m:\u001b[49m\n\u001b[32m    652\u001b[39m \u001b[43m        \u001b[49m\u001b[38;5;28;43;01mif\u001b[39;49;00m\u001b[43m \u001b[49m\u001b[43mname\u001b[49m\u001b[43m \u001b[49m\u001b[38;5;129;43;01min\u001b[39;49;00m\u001b[43m \u001b[49m\u001b[38;5;28;43mself\u001b[39;49m\u001b[43m.\u001b[49m\u001b[43mkeys\u001b[49m\u001b[43m:\u001b[49m\n",
      "\u001b[36mFile \u001b[39m\u001b[32mc:\\Users\\twells\\AppData\\Local\\miniconda3\\envs\\FTIR-SCAN\\Lib\\contextlib.py:148\u001b[39m, in \u001b[36m_GeneratorContextManager.__exit__\u001b[39m\u001b[34m(self, typ, value, traceback)\u001b[39m\n\u001b[32m    146\u001b[39m \u001b[38;5;28;01mif\u001b[39;00m typ \u001b[38;5;129;01mis\u001b[39;00m \u001b[38;5;28;01mNone\u001b[39;00m:\n\u001b[32m    147\u001b[39m     \u001b[38;5;28;01mtry\u001b[39;00m:\n\u001b[32m--> \u001b[39m\u001b[32m148\u001b[39m         \u001b[38;5;28;43mnext\u001b[39;49m\u001b[43m(\u001b[49m\u001b[38;5;28;43mself\u001b[39;49m\u001b[43m.\u001b[49m\u001b[43mgen\u001b[49m\u001b[43m)\u001b[49m\n\u001b[32m    149\u001b[39m     \u001b[38;5;28;01mexcept\u001b[39;00m \u001b[38;5;167;01mStopIteration\u001b[39;00m:\n\u001b[32m    150\u001b[39m         \u001b[38;5;28;01mreturn\u001b[39;00m \u001b[38;5;28;01mFalse\u001b[39;00m\n",
      "\u001b[36mFile \u001b[39m\u001b[32m~\\AppData\\Roaming\\Python\\Python313\\site-packages\\traitlets\\traitlets.py:1510\u001b[39m, in \u001b[36mHasTraits.hold_trait_notifications\u001b[39m\u001b[34m(self)\u001b[39m\n\u001b[32m   1508\u001b[39m \u001b[38;5;28;01mfor\u001b[39;00m changes \u001b[38;5;129;01min\u001b[39;00m cache.values():\n\u001b[32m   1509\u001b[39m     \u001b[38;5;28;01mfor\u001b[39;00m change \u001b[38;5;129;01min\u001b[39;00m changes:\n\u001b[32m-> \u001b[39m\u001b[32m1510\u001b[39m         \u001b[38;5;28;43mself\u001b[39;49m\u001b[43m.\u001b[49m\u001b[43mnotify_change\u001b[49m\u001b[43m(\u001b[49m\u001b[43mchange\u001b[49m\u001b[43m)\u001b[49m\n",
      "\u001b[36mFile \u001b[39m\u001b[32mc:\\Users\\twells\\AppData\\Local\\miniconda3\\envs\\FTIR-SCAN\\Lib\\site-packages\\ipywidgets\\widgets\\widget.py:701\u001b[39m, in \u001b[36mWidget.notify_change\u001b[39m\u001b[34m(self, change)\u001b[39m\n\u001b[32m    698\u001b[39m     \u001b[38;5;28;01mif\u001b[39;00m name \u001b[38;5;129;01min\u001b[39;00m \u001b[38;5;28mself\u001b[39m.keys \u001b[38;5;129;01mand\u001b[39;00m \u001b[38;5;28mself\u001b[39m._should_send_property(name, \u001b[38;5;28mgetattr\u001b[39m(\u001b[38;5;28mself\u001b[39m, name)):\n\u001b[32m    699\u001b[39m         \u001b[38;5;66;03m# Send new state to front-end\u001b[39;00m\n\u001b[32m    700\u001b[39m         \u001b[38;5;28mself\u001b[39m.send_state(key=name)\n\u001b[32m--> \u001b[39m\u001b[32m701\u001b[39m \u001b[38;5;28;43msuper\u001b[39;49m\u001b[43m(\u001b[49m\u001b[43m)\u001b[49m\u001b[43m.\u001b[49m\u001b[43mnotify_change\u001b[49m\u001b[43m(\u001b[49m\u001b[43mchange\u001b[49m\u001b[43m)\u001b[49m\n",
      "\u001b[36mFile \u001b[39m\u001b[32m~\\AppData\\Roaming\\Python\\Python313\\site-packages\\traitlets\\traitlets.py:1525\u001b[39m, in \u001b[36mHasTraits.notify_change\u001b[39m\u001b[34m(self, change)\u001b[39m\n\u001b[32m   1523\u001b[39m \u001b[38;5;28;01mdef\u001b[39;00m\u001b[38;5;250m \u001b[39m\u001b[34mnotify_change\u001b[39m(\u001b[38;5;28mself\u001b[39m, change: Bunch) -> \u001b[38;5;28;01mNone\u001b[39;00m:\n\u001b[32m   1524\u001b[39m \u001b[38;5;250m    \u001b[39m\u001b[33;03m\"\"\"Notify observers of a change event\"\"\"\u001b[39;00m\n\u001b[32m-> \u001b[39m\u001b[32m1525\u001b[39m     \u001b[38;5;28;01mreturn\u001b[39;00m \u001b[38;5;28;43mself\u001b[39;49m\u001b[43m.\u001b[49m\u001b[43m_notify_observers\u001b[49m\u001b[43m(\u001b[49m\u001b[43mchange\u001b[49m\u001b[43m)\u001b[49m\n",
      "\u001b[36mFile \u001b[39m\u001b[32m~\\AppData\\Roaming\\Python\\Python313\\site-packages\\traitlets\\traitlets.py:1568\u001b[39m, in \u001b[36mHasTraits._notify_observers\u001b[39m\u001b[34m(self, event)\u001b[39m\n\u001b[32m   1565\u001b[39m \u001b[38;5;28;01melif\u001b[39;00m \u001b[38;5;28misinstance\u001b[39m(c, EventHandler) \u001b[38;5;129;01mand\u001b[39;00m c.name \u001b[38;5;129;01mis\u001b[39;00m \u001b[38;5;129;01mnot\u001b[39;00m \u001b[38;5;28;01mNone\u001b[39;00m:\n\u001b[32m   1566\u001b[39m     c = \u001b[38;5;28mgetattr\u001b[39m(\u001b[38;5;28mself\u001b[39m, c.name)\n\u001b[32m-> \u001b[39m\u001b[32m1568\u001b[39m \u001b[43mc\u001b[49m\u001b[43m(\u001b[49m\u001b[43mevent\u001b[49m\u001b[43m)\u001b[49m\n",
      "\u001b[36mFile \u001b[39m\u001b[32mc:\\Users\\twells\\AppData\\Local\\miniconda3\\envs\\FTIR-SCAN\\Lib\\site-packages\\plotly\\basewidget.py:458\u001b[39m, in \u001b[36mBaseFigureWidget._handler_js2py_traceDeltas\u001b[39m\u001b[34m(self, change)\u001b[39m\n\u001b[32m    451\u001b[39m delta_transform = BaseFigureWidget._transform_data(\n\u001b[32m    452\u001b[39m     uid_trace._prop_defaults, delta\n\u001b[32m    453\u001b[39m )\n\u001b[32m    455\u001b[39m \u001b[38;5;66;03m# #### Remove overlapping properties ####\u001b[39;00m\n\u001b[32m    456\u001b[39m \u001b[38;5;66;03m# If a property is present in both _props and _prop_defaults\u001b[39;00m\n\u001b[32m    457\u001b[39m \u001b[38;5;66;03m# then we remove the copy from _props\u001b[39;00m\n\u001b[32m--> \u001b[39m\u001b[32m458\u001b[39m remove_props = \u001b[38;5;28;43mself\u001b[39;49m\u001b[43m.\u001b[49m\u001b[43m_remove_overlapping_props\u001b[49m\u001b[43m(\u001b[49m\n\u001b[32m    459\u001b[39m \u001b[43m    \u001b[49m\u001b[43muid_trace\u001b[49m\u001b[43m.\u001b[49m\u001b[43m_props\u001b[49m\u001b[43m,\u001b[49m\u001b[43m \u001b[49m\u001b[43muid_trace\u001b[49m\u001b[43m.\u001b[49m\u001b[43m_prop_defaults\u001b[49m\n\u001b[32m    460\u001b[39m \u001b[43m\u001b[49m\u001b[43m)\u001b[49m\n\u001b[32m    462\u001b[39m \u001b[38;5;66;03m# #### Notify frontend model of property removal ####\u001b[39;00m\n\u001b[32m    463\u001b[39m \u001b[38;5;28;01mif\u001b[39;00m remove_props:\n",
      "\u001b[36mFile \u001b[39m\u001b[32mc:\\Users\\twells\\AppData\\Local\\miniconda3\\envs\\FTIR-SCAN\\Lib\\site-packages\\plotly\\basewidget.py:849\u001b[39m, in \u001b[36mBaseFigureWidget._remove_overlapping_props\u001b[39m\u001b[34m(input_data, delta_data, prop_path)\u001b[39m\n\u001b[32m    845\u001b[39m removed.extend(recur_removed)\n\u001b[32m    847\u001b[39m \u001b[38;5;66;03m# Check whether the last property in input_val\u001b[39;00m\n\u001b[32m    848\u001b[39m \u001b[38;5;66;03m# has been removed. If so, remove it entirely\u001b[39;00m\n\u001b[32m--> \u001b[39m\u001b[32m849\u001b[39m \u001b[38;5;28;01mif\u001b[39;00m \u001b[38;5;129;01mnot\u001b[39;00m input_val:\n\u001b[32m    850\u001b[39m     input_data.pop(p)\n\u001b[32m    851\u001b[39m     removed.append(recur_prop_path)\n",
      "\u001b[31mValueError\u001b[39m: The truth value of an array with more than one element is ambiguous. Use a.any() or a.all()"
     ]
    }
   ],
   "source": [
    "filepath = None  # If not None, will only analyze specified file's DataFrame entry\n",
    "FTIR_DataFrame = peak_deconvolution(FTIR_DataFrame, filepath=filepath)"
   ]
  },
  {
   "cell_type": "markdown",
   "id": "4348633e",
   "metadata": {},
   "source": [
    "### Time-Series Deconvolution\n",
    "Should be done after individual spectrum deconvolution for every spectrum in the time-series."
   ]
  },
  {
   "cell_type": "markdown",
   "id": "98037cf1",
   "metadata": {},
   "source": [
    "## 5) Model Fitting"
   ]
  },
  {
   "cell_type": "markdown",
   "id": "ec094ead",
   "metadata": {},
   "source": [
    "## 6) Results"
   ]
  },
  {
   "cell_type": "markdown",
   "id": "69dd0cec",
   "metadata": {},
   "source": [
    "### Save the DataFrame"
   ]
  },
  {
   "cell_type": "code",
   "execution_count": null,
   "id": "a2436844",
   "metadata": {},
   "outputs": [],
   "source": [
    "# Save the DataFrame to CSV\n",
    "DataFrame_path = DataFrame_path  # Specify the path to your DataFrame CSV file (default \n",
    "# will be FTIR_DataFrame.csv in the active directory)\n",
    "FTIR_DataFrame.to_csv(DataFrame_path, index=False)\n",
    "print(f\"DataFrame saved to {DataFrame_path}\")"
   ]
  }
 ],
 "metadata": {
  "kernelspec": {
   "display_name": "FTIR-SCAN",
   "language": "python",
   "name": "python3"
  },
  "language_info": {
   "codemirror_mode": {
    "name": "ipython",
    "version": 3
   },
   "file_extension": ".py",
   "mimetype": "text/x-python",
   "name": "python",
   "nbconvert_exporter": "python",
   "pygments_lexer": "ipython3",
   "version": "3.13.7"
  }
 },
 "nbformat": 4,
 "nbformat_minor": 5
}
