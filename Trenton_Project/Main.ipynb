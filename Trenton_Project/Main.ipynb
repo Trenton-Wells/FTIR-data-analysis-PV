{
 "cells": [
  {
   "cell_type": "markdown",
   "id": "ffae5f63",
   "metadata": {},
   "source": [
    "# FTIR Data Analysis Main Workflow\n",
    "This notebook guides you through the main steps of the FTIR data analysis workflow, including file renaming, dataframe creation or modification, and baseline correction parameter management."
   ]
  },
  {
   "cell_type": "markdown",
   "id": "baac3563",
   "metadata": {},
   "source": [
    "## Import Statements\n",
    "Import necessary libraries and modules for data analysis and visualization."
   ]
  },
  {
   "cell_type": "code",
   "execution_count": 1,
   "id": "58e5b728",
   "metadata": {},
   "outputs": [],
   "source": [
    "import os\n",
    "import pandas as pd\n",
    "import matplotlib\n",
    "import matplotlib.pyplot as plt\n",
    "import ast\n",
    "import numpy as np\n",
    "import plotly.graph_objs as go\n",
    "import ipywidgets as widgets\n",
    "from IPython.display import display\n",
    "from Analysis_FTIR import baseline_selection, cast_parameter_types, get_default_parameters, parse_parameters, baseline_correction, plot_grouped_spectra, try_baseline, bring_in_dataframe, test_baseline_choices, parameter_selection\n",
    "from Fixing_File_Names import batch_rename_files\n",
    "from File_Info_Gathering import file_info_extractor\n",
    "from Baseline_IRSQR import baseline_irsqr\n",
    "from Baseline_GIFTS import baseline_gifts\n",
    "from Baseline_MANUAL import select_anchor_points, _cleanup_widgets\n",
    "from pybaselines import Baseline\n",
    "\n",
    "try:\n",
    "    from google.colab import output  # Will succeed only in Colab\n",
    "    output.enable_custom_widget_manager()\n",
    "    In_Colab = True\n",
    "except Exception:\n",
    "    In_Colab = False\n"
   ]
  },
  {
   "cell_type": "markdown",
   "id": "a69f49c6",
   "metadata": {},
   "source": [
    "## File Renaming\n",
    "You can optionally rename files in your dataset.\n",
    "\n",
    "This script scans a specified root directory and its subdirectories to find and rename files. Folder names will not be changed,except in the case of date renaming to ISO format (e.g., 2025-09-18) (optional). It works by replacing spaces and/or specified words in the filenames. (e.g., replacing spaces with underscores). Suggested to use this tool if file names have inconsistent naming conventions that may cause issues in downstream processing."
   ]
  },
  {
   "cell_type": "code",
   "execution_count": null,
   "id": "c80c6551",
   "metadata": {},
   "outputs": [],
   "source": [
    "# Set directory to rename folders and files within (e.g., r\"C:\\Users\\user1\\folder1\")\n",
    "directory = None\n",
    "# If you want to replace spaces in filenames, set replace_spaces to True and set character_to_use to the desired separator (e.g., \"_\")\n",
    "replace_spaces = None\n",
    "character_to_use = None\n",
    "# If you want to convert all dates in the directory names to ISO format (YYYY-MM-DD), set iso_date_rename to True\n",
    "iso_date_rename = None\n",
    "# If you want to replace other specified words in filenames, set file_rename to True and provide pairs_input (e.g., \"old1:new1,old2:new2\")\n",
    "file_rename = None\n",
    "pairs_input = None\n",
    "# If any of these parameters are set to None, you will be prompted for input (may result in multiple prompts and/or minor formatting issues)\n",
    "# Rename files in the specified directory\n",
    "batch_rename_files(directory=directory, replace_spaces=replace_spaces, character_to_use=character_to_use, iso_date_rename=iso_date_rename, file_rename=file_rename, pairs_input=pairs_input)\n"
   ]
  },
  {
   "cell_type": "markdown",
   "id": "c55543b1",
   "metadata": {},
   "source": [
    "## Load or create the dataframe"
   ]
  },
  {
   "cell_type": "code",
   "execution_count": 2,
   "id": "d5ef5b29",
   "metadata": {},
   "outputs": [],
   "source": [
    "dataframe_path = r\"C:\\Users\\twells\\Documents\\GitHub\\FTIR-data-analysis-PV\\Trenton_Project\\FTIR_dataframe.csv\"  # Specify the path to your DataFrame CSV file. Leave as None if dataframe is new or in default location.\n",
    "\n",
    "FTIR_dataframe = bring_in_dataframe(dataframe_path=dataframe_path)"
   ]
  },
  {
   "cell_type": "markdown",
   "id": "ad02311b",
   "metadata": {},
   "source": [
    "## Fill or Append to Dataframe\n",
    "Gathers file information and builds the main data structure for analysis. Repeated uses can append new data into the DataFrame.\n",
    "\n",
    "The dataframe will have a row for each spectrum file, with columns as follows:\n",
    "\n",
    "File Location, File Name, Date, Conditions, Material, Time, X-Axis, Raw Data, Baseline Function, Baseline Parameters, Baseline, Baseline-Corrected Data, Normalization Peak Wavenumber, Normalized and Corrected Data\n",
    "\n",
    "This function will append any files that aren't already included.\n",
    "If FTIR_dataframe is empty it will create it from scratch."
   ]
  },
  {
   "cell_type": "code",
   "execution_count": 3,
   "id": "f162543f",
   "metadata": {},
   "outputs": [],
   "source": [
    "# Set directory containing files to analyze (e.g., r\"C:\\Users\\user1\\folder1\")\n",
    "directory = r\"Y:\\5200\\Packaging Reliability\\Durability Tool\\Ray Tracing and Activation Spectrum\\ATR-FTIR Data\"\n",
    "# Set file types to include (e.g., [\".dpt\", \".txt\", \".csv\"])\n",
    "file_types = \".dpt\"\n",
    "# Set separators to use when finding terms within filenames (e.g., [\"_\", \" \"])\n",
    "separators = \"_\"\n",
    "# Set material terms to search for in filenames (e.g., [\"Si\", \"Perovskite\", \"Glass\"]) (case-insensitive)\n",
    "material_terms = \"CPC, t-PVDF, t-PVF, o-PVF, PPE, J-BOX#1, J-BOX#2, PO, PMMA\"\n",
    "# Set conditions terms to search for in filenames (e.g., [\"A3\", \"A4\", \"B3\", \"B4\"])\n",
    "conditions_terms = \"A3, A4, A5, 0.5X, 1X, 2.5X, 5X, ARC, OPN, KKCE, unexposed\"\n",
    "# Set append_missing to False to add only files which have all required information, or True to add files even if some information is missing (may lead to issues downstream)\n",
    "append_missing = False\n",
    "# Set track_replicates to True to print the groups of replicate files\n",
    "track_replicates = False\n",
    "# If any of these parameters are set to None, you will be prompted for input (may result in multiple prompts and/or minor formatting issues)\n",
    "\n",
    "# Extract File Information and build or append to the main DataFrame\n",
    "FTIR_dataframe=file_info_extractor(FTIR_dataframe=FTIR_dataframe, dataframe_path=dataframe_path, directory=directory, file_types=file_types, separators=separators, material_terms=material_terms, conditions_terms=conditions_terms, append_missing=append_missing, track_replicates=track_replicates)"
   ]
  },
  {
   "cell_type": "markdown",
   "id": "1c1ebbd8",
   "metadata": {},
   "source": [
    "### Display Dataframe"
   ]
  },
  {
   "cell_type": "code",
   "execution_count": null,
   "id": "62a19bbb",
   "metadata": {},
   "outputs": [],
   "source": [
    "from IPython.display import display, HTML\n",
    "import pandas as pd\n",
    "pd.set_option('display.max_columns', None)\n",
    "pd.set_option('display.max_rows', None)\n",
    "display(HTML('<div style=\"height:500px;overflow:auto;\">' + FTIR_dataframe.to_html(max_rows=None, max_cols=None, notebook=True) + '</div>'))"
   ]
  },
  {
   "cell_type": "markdown",
   "id": "e21d25f0",
   "metadata": {},
   "source": [
    "### Plot Spectra\n",
    "Pick the material(s), condition(s), time(s) and which version of those files' data to plot.\n",
    "\n",
    "A group plot is always created, but if separate_plots = True, then each spectrum will also be plotted individually.\n",
    "\n",
    "If include_replicates = False, then the only first file found with those terms will be used."
   ]
  },
  {
   "cell_type": "code",
   "execution_count": null,
   "id": "3e0d7d11",
   "metadata": {},
   "outputs": [],
   "source": [
    "# Set parameters for filtering and plotting\n",
    "materials = \"PPE\"  # Example material\n",
    "conditions = \"5X, unexposed\"  # Example conditions\n",
    "times = \"any\"       # Example time\n",
    "raw_data = True\n",
    "baseline = False\n",
    "baseline_corrected = False\n",
    "separate_plots = True\n",
    "include_replicates = False\n",
    "zoom = None # Set to \"x_minimum-x_maximum\" format, e.g., \"400-4000\", or None for no zoom\n",
    "\n",
    "# Call the function to plot the grouped spectra\n",
    "%matplotlib inline\n",
    "plot_grouped_spectra(FTIR_dataframe=FTIR_dataframe, materials=materials, conditions=conditions, times=times, raw_data=raw_data, baseline=baseline, baseline_corrected=baseline_corrected, separate_plots=separate_plots, include_replicates=include_replicates, zoom=zoom)"
   ]
  },
  {
   "cell_type": "markdown",
   "id": "254fcae0",
   "metadata": {},
   "source": [
    "## Baseline Correction Options\n",
    "You can choose the baseline correction function and its parameters for your dataframe. This step allows you to fine-tune how baseline correction is applied to your FTIR data.\n",
    "\n",
    "Baseline Options:\n",
    "\n",
    "'GIFTS': straight line fit to the data and iteratively discards points that do not fit the line well. This is an asymmetric least squares (ALS) method. [Pros: fast] [Cons: unreliable accuracy]\n",
    "\n",
    "'IRSQR': iterative reweighted spline quantile regression-- uses penalized splines and iterative reweighted least squares to perform quantile regression. [Pros: decent accuracy] [Cons: middling speed]\n",
    "\n",
    "'FABC': fully automatic baseline correction-- uses first derivative approximation of data to identify and then ignore peak regions, then fits to baseline regions using Whittaker smoothing. [Pros: can handle noise well, decent accuracy] [Cons: middling speed]\n",
    "\n",
    "'Manual': set \"anchor points\" for each of your materials using the built-in tool. This will create a list of wavenumber values that should be in baseline regions for every scan of that material. A cubic spline interpolation will be done between those points' values in each scan. [Pros: customizable, accurate] [Cons: requires manual entry for each material type]"
   ]
  },
  {
   "cell_type": "markdown",
   "id": "63de6414",
   "metadata": {},
   "source": [
    "### Try Baselines Out\n",
    "Try out different baseline types and parameter options without saving the results. The function will find the first file of your selected material with time == 0 (aka non-degraded) and display what the currently chosen settings will create for a baseline.\n",
    "\n",
    "For custom parameters, structure like so: parameter_string=\"lam=100, quantile=0.05\"\n",
    "\n",
    "Accepts a filepath as an argument if you want to experiment with a specific file. In that case, \"material\" argument will be ignored."
   ]
  },
  {
   "cell_type": "markdown",
   "id": "db9338dd",
   "metadata": {},
   "source": [
    "#### For non-manual baselines:"
   ]
  },
  {
   "cell_type": "code",
   "execution_count": null,
   "id": "08671e15",
   "metadata": {},
   "outputs": [],
   "source": [
    "filepath = None # If None, will find first Time-Zero file of the specified material\n",
    "material = \"PPE\" # Specify material to analyze (e.g., \"PPE\", with quotes).\n",
    "baseline_function = \"IRSQR\" # Specify baseline function to try (options: \"GIFTS\", \"IRSQR\", \"FABC\", quotes included).\n",
    "parameter_string = None # For custom parameters, structure like so: parameter_string=\"lam=100, quantile=0.05\". Default parameters will be used if None.\n",
    "\n",
    "try_baseline(FTIR_dataframe, material=material, baseline_function=baseline_function, parameter_string=parameter_string, filepath=filepath)"
   ]
  },
  {
   "cell_type": "markdown",
   "id": "b7390268",
   "metadata": {},
   "source": [
    "#### For manual baseline:"
   ]
  },
  {
   "cell_type": "code",
   "execution_count": null,
   "id": "371be43f",
   "metadata": {},
   "outputs": [
    {
     "data": {
      "application/vnd.jupyter.widget-view+json": {
       "model_id": "237592b8a4ac4a2b85b6850b08aecd29",
       "version_major": 2,
       "version_minor": 0
      },
      "text/plain": [
       "FigureWidget({\n",
       "    'data': [{'mode': 'lines',\n",
       "              'name': 'Raw Data',\n",
       "              'type': 'scatter',\n",
       "              'uid': '9403ce58-b49f-449a-ab94-2d535e4afd13',\n",
       "              'x': [3998.47381, 3997.4438, 3996.4138, ..., 401.70139, 400.67138,\n",
       "                    399.64138],\n",
       "              'y': [-0.00015, -0.00014, -0.0001, ..., -0.00127, -0.00127, 0.0]},\n",
       "             {'marker': {'color': 'red', 'size': 10},\n",
       "              'mode': 'markers',\n",
       "              'name': 'Anchor Points',\n",
       "              'type': 'scatter',\n",
       "              'uid': '984f7025-42cb-496a-877e-08321cbc0d9e',\n",
       "              'x': [],\n",
       "              'y': []}],\n",
       "    'layout': {'template': '...',\n",
       "               'title': {'text': 'Click to select anchor points for baseline correction'},\n",
       "               'xaxis': {'title': {'text': 'Wavenumber (cm⁻¹)'}},\n",
       "               'yaxis': {'title': {'text': 'Absorbance (AU)'}}}\n",
       "})"
      ]
     },
     "metadata": {},
     "output_type": "display_data"
    },
    {
     "data": {
      "application/vnd.jupyter.widget-view+json": {
       "model_id": "97e6110c27c347fabc48f39f7fab1ab3",
       "version_major": 2,
       "version_minor": 0
      },
      "text/plain": [
       "Output()"
      ]
     },
     "metadata": {},
     "output_type": "display_data"
    },
    {
     "data": {
      "application/vnd.jupyter.widget-view+json": {
       "model_id": "4166c3d9c87f49f991ec9f9a5515f2e4",
       "version_major": 2,
       "version_minor": 0
      },
      "text/plain": [
       "Output()"
      ]
     },
     "metadata": {},
     "output_type": "display_data"
    },
    {
     "data": {
      "application/vnd.jupyter.widget-view+json": {
       "model_id": "0989a033a0674576bf498609e51be8e2",
       "version_major": 2,
       "version_minor": 0
      },
      "text/plain": [
       "Output()"
      ]
     },
     "metadata": {},
     "output_type": "display_data"
    },
    {
     "ename": "KeyError",
     "evalue": "'uid'",
     "output_type": "error",
     "traceback": [
      "\u001b[31m---------------------------------------------------------------------------\u001b[39m",
      "\u001b[31mKeyError\u001b[39m                                  Traceback (most recent call last)",
      "\u001b[36mFile \u001b[39m\u001b[32mc:\\Users\\twells\\AppData\\Local\\miniconda3\\envs\\FTIR-SCAN\\Lib\\site-packages\\ipywidgets\\widgets\\widget.py:773\u001b[39m, in \u001b[36mWidget._handle_msg\u001b[39m\u001b[34m(self, msg)\u001b[39m\n\u001b[32m    771\u001b[39m         \u001b[38;5;28;01mif\u001b[39;00m \u001b[33m'\u001b[39m\u001b[33mbuffer_paths\u001b[39m\u001b[33m'\u001b[39m \u001b[38;5;129;01min\u001b[39;00m data:\n\u001b[32m    772\u001b[39m             _put_buffers(state, data[\u001b[33m'\u001b[39m\u001b[33mbuffer_paths\u001b[39m\u001b[33m'\u001b[39m], msg[\u001b[33m'\u001b[39m\u001b[33mbuffers\u001b[39m\u001b[33m'\u001b[39m])\n\u001b[32m--> \u001b[39m\u001b[32m773\u001b[39m         \u001b[38;5;28;43mself\u001b[39;49m\u001b[43m.\u001b[49m\u001b[43mset_state\u001b[49m\u001b[43m(\u001b[49m\u001b[43mstate\u001b[49m\u001b[43m)\u001b[49m\n\u001b[32m    775\u001b[39m \u001b[38;5;66;03m# Handle a state request.\u001b[39;00m\n\u001b[32m    776\u001b[39m \u001b[38;5;28;01melif\u001b[39;00m method == \u001b[33m'\u001b[39m\u001b[33mrequest_state\u001b[39m\u001b[33m'\u001b[39m:\n",
      "\u001b[36mFile \u001b[39m\u001b[32mc:\\Users\\twells\\AppData\\Local\\miniconda3\\envs\\FTIR-SCAN\\Lib\\site-packages\\ipywidgets\\widgets\\widget.py:650\u001b[39m, in \u001b[36mWidget.set_state\u001b[39m\u001b[34m(self, sync_data)\u001b[39m\n\u001b[32m    645\u001b[39m         \u001b[38;5;28mself\u001b[39m._send(msg, buffers=echo_buffers)\n\u001b[32m    647\u001b[39m \u001b[38;5;66;03m# The order of these context managers is important. Properties must\u001b[39;00m\n\u001b[32m    648\u001b[39m \u001b[38;5;66;03m# be locked when the hold_trait_notification context manager is\u001b[39;00m\n\u001b[32m    649\u001b[39m \u001b[38;5;66;03m# released and notifications are fired.\u001b[39;00m\n\u001b[32m--> \u001b[39m\u001b[32m650\u001b[39m \u001b[43m\u001b[49m\u001b[38;5;28;43;01mwith\u001b[39;49;00m\u001b[43m \u001b[49m\u001b[38;5;28;43mself\u001b[39;49m\u001b[43m.\u001b[49m\u001b[43m_lock_property\u001b[49m\u001b[43m(\u001b[49m\u001b[43m*\u001b[49m\u001b[43m*\u001b[49m\u001b[43msync_data\u001b[49m\u001b[43m)\u001b[49m\u001b[43m,\u001b[49m\u001b[43m \u001b[49m\u001b[38;5;28;43mself\u001b[39;49m\u001b[43m.\u001b[49m\u001b[43mhold_trait_notifications\u001b[49m\u001b[43m(\u001b[49m\u001b[43m)\u001b[49m\u001b[43m:\u001b[49m\n\u001b[32m    651\u001b[39m \u001b[43m    \u001b[49m\u001b[38;5;28;43;01mfor\u001b[39;49;00m\u001b[43m \u001b[49m\u001b[43mname\u001b[49m\u001b[43m \u001b[49m\u001b[38;5;129;43;01min\u001b[39;49;00m\u001b[43m \u001b[49m\u001b[43msync_data\u001b[49m\u001b[43m:\u001b[49m\n\u001b[32m    652\u001b[39m \u001b[43m        \u001b[49m\u001b[38;5;28;43;01mif\u001b[39;49;00m\u001b[43m \u001b[49m\u001b[43mname\u001b[49m\u001b[43m \u001b[49m\u001b[38;5;129;43;01min\u001b[39;49;00m\u001b[43m \u001b[49m\u001b[38;5;28;43mself\u001b[39;49m\u001b[43m.\u001b[49m\u001b[43mkeys\u001b[49m\u001b[43m:\u001b[49m\n",
      "\u001b[36mFile \u001b[39m\u001b[32mc:\\Users\\twells\\AppData\\Local\\miniconda3\\envs\\FTIR-SCAN\\Lib\\contextlib.py:148\u001b[39m, in \u001b[36m_GeneratorContextManager.__exit__\u001b[39m\u001b[34m(self, typ, value, traceback)\u001b[39m\n\u001b[32m    146\u001b[39m \u001b[38;5;28;01mif\u001b[39;00m typ \u001b[38;5;129;01mis\u001b[39;00m \u001b[38;5;28;01mNone\u001b[39;00m:\n\u001b[32m    147\u001b[39m     \u001b[38;5;28;01mtry\u001b[39;00m:\n\u001b[32m--> \u001b[39m\u001b[32m148\u001b[39m         \u001b[38;5;28;43mnext\u001b[39;49m\u001b[43m(\u001b[49m\u001b[38;5;28;43mself\u001b[39;49m\u001b[43m.\u001b[49m\u001b[43mgen\u001b[49m\u001b[43m)\u001b[49m\n\u001b[32m    149\u001b[39m     \u001b[38;5;28;01mexcept\u001b[39;00m \u001b[38;5;167;01mStopIteration\u001b[39;00m:\n\u001b[32m    150\u001b[39m         \u001b[38;5;28;01mreturn\u001b[39;00m \u001b[38;5;28;01mFalse\u001b[39;00m\n",
      "\u001b[36mFile \u001b[39m\u001b[32m~\\AppData\\Roaming\\Python\\Python313\\site-packages\\traitlets\\traitlets.py:1510\u001b[39m, in \u001b[36mHasTraits.hold_trait_notifications\u001b[39m\u001b[34m(self)\u001b[39m\n\u001b[32m   1508\u001b[39m \u001b[38;5;28;01mfor\u001b[39;00m changes \u001b[38;5;129;01min\u001b[39;00m cache.values():\n\u001b[32m   1509\u001b[39m     \u001b[38;5;28;01mfor\u001b[39;00m change \u001b[38;5;129;01min\u001b[39;00m changes:\n\u001b[32m-> \u001b[39m\u001b[32m1510\u001b[39m         \u001b[38;5;28;43mself\u001b[39;49m\u001b[43m.\u001b[49m\u001b[43mnotify_change\u001b[49m\u001b[43m(\u001b[49m\u001b[43mchange\u001b[49m\u001b[43m)\u001b[49m\n",
      "\u001b[36mFile \u001b[39m\u001b[32mc:\\Users\\twells\\AppData\\Local\\miniconda3\\envs\\FTIR-SCAN\\Lib\\site-packages\\ipywidgets\\widgets\\widget.py:701\u001b[39m, in \u001b[36mWidget.notify_change\u001b[39m\u001b[34m(self, change)\u001b[39m\n\u001b[32m    698\u001b[39m     \u001b[38;5;28;01mif\u001b[39;00m name \u001b[38;5;129;01min\u001b[39;00m \u001b[38;5;28mself\u001b[39m.keys \u001b[38;5;129;01mand\u001b[39;00m \u001b[38;5;28mself\u001b[39m._should_send_property(name, \u001b[38;5;28mgetattr\u001b[39m(\u001b[38;5;28mself\u001b[39m, name)):\n\u001b[32m    699\u001b[39m         \u001b[38;5;66;03m# Send new state to front-end\u001b[39;00m\n\u001b[32m    700\u001b[39m         \u001b[38;5;28mself\u001b[39m.send_state(key=name)\n\u001b[32m--> \u001b[39m\u001b[32m701\u001b[39m \u001b[38;5;28;43msuper\u001b[39;49m\u001b[43m(\u001b[49m\u001b[43m)\u001b[49m\u001b[43m.\u001b[49m\u001b[43mnotify_change\u001b[49m\u001b[43m(\u001b[49m\u001b[43mchange\u001b[49m\u001b[43m)\u001b[49m\n",
      "\u001b[36mFile \u001b[39m\u001b[32m~\\AppData\\Roaming\\Python\\Python313\\site-packages\\traitlets\\traitlets.py:1525\u001b[39m, in \u001b[36mHasTraits.notify_change\u001b[39m\u001b[34m(self, change)\u001b[39m\n\u001b[32m   1523\u001b[39m \u001b[38;5;28;01mdef\u001b[39;00m\u001b[38;5;250m \u001b[39m\u001b[34mnotify_change\u001b[39m(\u001b[38;5;28mself\u001b[39m, change: Bunch) -> \u001b[38;5;28;01mNone\u001b[39;00m:\n\u001b[32m   1524\u001b[39m \u001b[38;5;250m    \u001b[39m\u001b[33;03m\"\"\"Notify observers of a change event\"\"\"\u001b[39;00m\n\u001b[32m-> \u001b[39m\u001b[32m1525\u001b[39m     \u001b[38;5;28;01mreturn\u001b[39;00m \u001b[38;5;28;43mself\u001b[39;49m\u001b[43m.\u001b[49m\u001b[43m_notify_observers\u001b[49m\u001b[43m(\u001b[49m\u001b[43mchange\u001b[49m\u001b[43m)\u001b[49m\n",
      "\u001b[36mFile \u001b[39m\u001b[32m~\\AppData\\Roaming\\Python\\Python313\\site-packages\\traitlets\\traitlets.py:1568\u001b[39m, in \u001b[36mHasTraits._notify_observers\u001b[39m\u001b[34m(self, event)\u001b[39m\n\u001b[32m   1565\u001b[39m \u001b[38;5;28;01melif\u001b[39;00m \u001b[38;5;28misinstance\u001b[39m(c, EventHandler) \u001b[38;5;129;01mand\u001b[39;00m c.name \u001b[38;5;129;01mis\u001b[39;00m \u001b[38;5;129;01mnot\u001b[39;00m \u001b[38;5;28;01mNone\u001b[39;00m:\n\u001b[32m   1566\u001b[39m     c = \u001b[38;5;28mgetattr\u001b[39m(\u001b[38;5;28mself\u001b[39m, c.name)\n\u001b[32m-> \u001b[39m\u001b[32m1568\u001b[39m \u001b[43mc\u001b[49m\u001b[43m(\u001b[49m\u001b[43mevent\u001b[49m\u001b[43m)\u001b[49m\n",
      "\u001b[36mFile \u001b[39m\u001b[32mc:\\Users\\twells\\AppData\\Local\\miniconda3\\envs\\FTIR-SCAN\\Lib\\site-packages\\plotly\\basewidget.py:445\u001b[39m, in \u001b[36mBaseFigureWidget._handler_js2py_traceDeltas\u001b[39m\u001b[34m(self, change)\u001b[39m\n\u001b[32m    441\u001b[39m \u001b[38;5;28;01mif\u001b[39;00m trace_edit_id == \u001b[38;5;28mself\u001b[39m._last_trace_edit_id:\n\u001b[32m    442\u001b[39m     \u001b[38;5;66;03m# ### Loop over deltas ###\u001b[39;00m\n\u001b[32m    443\u001b[39m     \u001b[38;5;28;01mfor\u001b[39;00m delta \u001b[38;5;129;01min\u001b[39;00m trace_deltas:\n\u001b[32m    444\u001b[39m         \u001b[38;5;66;03m# #### Find existing trace for uid ###\u001b[39;00m\n\u001b[32m--> \u001b[39m\u001b[32m445\u001b[39m         trace_uid = \u001b[43mdelta\u001b[49m\u001b[43m[\u001b[49m\u001b[33;43m\"\u001b[39;49m\u001b[33;43muid\u001b[39;49m\u001b[33;43m\"\u001b[39;49m\u001b[43m]\u001b[49m\n\u001b[32m    446\u001b[39m         trace_uids = [trace.uid \u001b[38;5;28;01mfor\u001b[39;00m trace \u001b[38;5;129;01min\u001b[39;00m \u001b[38;5;28mself\u001b[39m.data]\n\u001b[32m    447\u001b[39m         trace_index = trace_uids.index(trace_uid)\n",
      "\u001b[31mKeyError\u001b[39m: 'uid'"
     ]
    },
    {
     "data": {
      "application/vnd.jupyter.widget-view+json": {
       "model_id": "237592b8a4ac4a2b85b6850b08aecd29",
       "version_major": 2,
       "version_minor": 0
      },
      "text/plain": [
       "FigureWidget({\n",
       "    'data': [{'mode': 'lines',\n",
       "              'name': 'Raw Data',\n",
       "              'type': 'scatter',\n",
       "              'uid': '9403ce58-b49f-449a-ab94-2d535e4afd13',\n",
       "              'x': [3998.47381, 3997.4438, 3996.4138, ..., 401.70139, 400.67138,\n",
       "                    399.64138],\n",
       "              'y': [-0.00015, -0.00014, -0.0001, ..., -0.00127, -0.00127, 0.0]},\n",
       "             {'marker': {'color': 'red', 'size': 10},\n",
       "              'mode': 'markers',\n",
       "              'name': 'Anchor Points',\n",
       "              'type': 'scatter',\n",
       "              'uid': '984f7025-42cb-496a-877e-08321cbc0d9e',\n",
       "              'x': [],\n",
       "              'y': []}],\n",
       "    'layout': {'template': '...',\n",
       "               'title': {'text': 'Click to select anchor points for baseline correction'},\n",
       "               'xaxis': {'title': {'text': 'Wavenumber (cm⁻¹)'}},\n",
       "               'yaxis': {'title': {'text': 'Absorbance (AU)'}}}\n",
       "})"
      ]
     },
     "metadata": {},
     "output_type": "display_data"
    },
    {
     "data": {
      "application/vnd.jupyter.widget-view+json": {
       "model_id": "97e6110c27c347fabc48f39f7fab1ab3",
       "version_major": 2,
       "version_minor": 0
      },
      "text/plain": [
       "Output()"
      ]
     },
     "metadata": {},
     "output_type": "display_data"
    },
    {
     "data": {
      "application/vnd.jupyter.widget-view+json": {
       "model_id": "4166c3d9c87f49f991ec9f9a5515f2e4",
       "version_major": 2,
       "version_minor": 0
      },
      "text/plain": [
       "Output()"
      ]
     },
     "metadata": {},
     "output_type": "display_data"
    },
    {
     "data": {
      "application/vnd.jupyter.widget-view+json": {
       "model_id": "0989a033a0674576bf498609e51be8e2",
       "version_major": 2,
       "version_minor": 0
      },
      "text/plain": [
       "Output()"
      ]
     },
     "metadata": {},
     "output_type": "display_data"
    }
   ],
   "source": [
    "filepath = None # If None, will find first Time-Zero file of the specified material\n",
    "material = \"PPE\"\n",
    "select_anchor_points(FTIR_dataframe, material=material, filepath=filepath, try_it_out=True, dataframe_path=dataframe_path)"
   ]
  },
  {
   "cell_type": "markdown",
   "id": "6a0bd31d",
   "metadata": {},
   "source": [
    "### Baseline Selection\n",
    "materials should be a string, e.g. \"PPE, Perovskite, Plexiglass\", quotation marks included."
   ]
  },
  {
   "cell_type": "code",
   "execution_count": null,
   "id": "1eba4282",
   "metadata": {},
   "outputs": [],
   "source": [
    "### GIFTS ###\n",
    "materials = \"t-PVDF, o-PVF, PO\"\n",
    "if materials:\n",
    "    baseline_selection(FTIR_dataframe, materials=materials, baseline_function='GIFTS')\n",
    "\n",
    "### IRSQR ###\n",
    "materials = \"CPC\"\n",
    "if materials:\n",
    "    baseline_selection(FTIR_dataframe, materials=materials, baseline_function='IRSQR')\n",
    "\n",
    "### FABC ###\n",
    "materials = \"t-PVF\"\n",
    "if materials:\n",
    "    baseline_selection(FTIR_dataframe, materials=materials, baseline_function='FABC')\n",
    "\n",
    "### Manual Selection ###\n",
    "materials = None\n",
    "if materials:\n",
    "    baseline_selection(FTIR_dataframe, materials=materials, baseline_function='MANUAL')"
   ]
  },
  {
   "cell_type": "markdown",
   "id": "caad7b60",
   "metadata": {},
   "source": [
    "### Parameter Selection"
   ]
  },
  {
   "cell_type": "markdown",
   "id": "66a417cf",
   "metadata": {},
   "source": [
    "#### GIFTS Parameters\n",
    "lam (float): Smoothness parameter (higher = smoother baseline).\n",
    "\n",
    "p (float): Asymmetry parameter (0 < p < 1).\n",
    "\n",
    "iterations (integer): Number of iterations."
   ]
  },
  {
   "cell_type": "markdown",
   "id": "1e829e29",
   "metadata": {},
   "source": [
    "#### IRSQR Parameters\n",
    "lam (float): The smoothing parameter (higher = smoother baseline).\n",
    "\n",
    "quantile (float): The quantile at which to fit the baseline (0 < quantile < 1).\n",
    "\n",
    "num_knots (integer): The number of knots for the spline.\n",
    "\n",
    "spline_degree (integer): The degree of the spline.\n",
    "\n",
    "diff_order (integer): The order of the differential matrix. Must be greate matrix). Typical values are 3, 2, or 1.\n",
    "\n",
    "max_iter (integer): The max number of fit iterations.\n",
    "\n",
    "tol (float): The exit criteria.\n",
    "\n",
    "weights (array-like): The weighting array. If None (default), then the initial weights will be an array with size equal to N and all values set to 1.\n",
    "\n",
    "eps (float): A small value added to the square of the residual to prevent dividing by 0. Default is None, which uses the square of the maximum-absolute-value of the fit each iteration multiplied by 1e-6."
   ]
  },
  {
   "cell_type": "markdown",
   "id": "12707a81",
   "metadata": {},
   "source": [
    "#### FABC Parameters\n",
    "lam (float): The smoothing parameter (higher = smoother baseline).\n",
    "\n",
    "scale (integer): The scale at which to calculate the continuous wavelet transform. Should be approximately equal to the index-based full-width-at-half-maximum of the peaks or features in the data. Default is None, which will use half of the value from :func:`.optimize_window`, which is not always a good value, but at least scales with the number of data points and gives a starting point for tuning the parameter.\n",
    "\n",
    "num_std (float): The number of standard deviations to include when thresholding. Higher values\n",
    "will assign more points as baseline.\n",
    "\n",
    "diff_order (integer): The order of the differential matrix. Must be greater than 0. Typical values are 2 or 1.\n",
    "\n",
    "min_length (integer): Any region of consecutive baseline points less than `min_length` is considered to be a false positive and all points in the region are converted to peak points. A higher `min_length` ensures less points are falsely assigned as baseline points. Default is 2, which only removes lone baseline points.\n",
    "\n",
    "weights (array-like): The weighting array, used to override the function's baseline identification to designate peak points. Only elements with 0 or False values will have an effect; all non-zero values are considered baseline points. If None, then will be an array with size equal to N and all values set to 1.\n",
    "\n",
    "weights_as_mask (bool): If True, signifies that the input `weights` is the mask to use for fitting, which skips the continuous wavelet calculation and just smooths the input data.\n",
    "\n",
    "pad_kwargs (dict): A dictionary of keyword arguments to pass to :func:`.pad_edges` for padding the edges of the data to prevent edge effects from convolution for the continuous wavelet transform. Default is None."
   ]
  },
  {
   "cell_type": "code",
   "execution_count": null,
   "id": "92bcdc9d",
   "metadata": {},
   "outputs": [],
   "source": [
    "# Run this cell repeatedly to set parameters for different sets of materials\n",
    "materials = \"PPE\" # Specify materials to parameterize the baseline of (e.g., \"PPE, PVF\", with quotes).\n",
    "parameters = \"lam=100, p=0.01, iterations=1000\" # Specify baseline parameters to apply to all selected materials (e.g., \"lam=100, p=0.01, iterations=1000\", with quotes).\n",
    "FTIR_dataframe=parameter_selection(FTIR_dataframe, materials=materials, parameters=parameters)"
   ]
  },
  {
   "cell_type": "markdown",
   "id": "963f3c89",
   "metadata": {},
   "source": [
    "### Manual Parameters\n",
    "anchor_points (float): The manually selected anchor points, from which the baseline is constructed via a cubic spline interpolation between them. The points are selected in one file from the regions that should always remain outside of peaks for that material, under reasonable degradation conditions. The points associated with these wavenumbers will be accessed in each file and a separate interpolation will be done for each one. So while the anchor points are the same in every spectrum, the actual baseline correction will be personalized for each."
   ]
  },
  {
   "cell_type": "code",
   "execution_count": null,
   "id": "57272724",
   "metadata": {},
   "outputs": [],
   "source": [
    "material = \"PPE\" # Specify material to manually select anchor points for (e.g., \"PPE\", with quotes).\n",
    "select_anchor_points(FTIR_dataframe, material=material, try_it_out=False, dataframe_path=dataframe_path)\n",
    "# Restart kernel (or webpage, on Colab) if needed to reset interactive plot. Repeatedly running this cell without restarting may cause issues due to Colab limitations.\n",
    "# Note that this cell will also save the DataFrame to file so that the selected anchor points are stored, even after restarting the kernel.\n",
    "# If restarting the kernel or webpage, re-run the import cell and load in the dataframe at the top of the notebook before running this cell again."
   ]
  },
  {
   "cell_type": "markdown",
   "id": "d440147b",
   "metadata": {},
   "source": [
    "### Test Baseline and Parameter Choices\n",
    "Generates plots with the selected baseline and parameters for three random files of the specified material. Allows for quality check."
   ]
  },
  {
   "cell_type": "code",
   "execution_count": null,
   "id": "628c80d4",
   "metadata": {},
   "outputs": [],
   "source": [
    "material = \"PPE\" # Specify material to analyze (e.g., \"PPE\", with quotes).\n",
    "test_baseline_choices(FTIR_dataframe, material=material)"
   ]
  },
  {
   "cell_type": "markdown",
   "id": "69dd0cec",
   "metadata": {},
   "source": [
    "### Save the Dataframe"
   ]
  },
  {
   "cell_type": "code",
   "execution_count": null,
   "id": "a2436844",
   "metadata": {},
   "outputs": [],
   "source": [
    "# Save the DataFrame to CSV\n",
    "dataframe_path = dataframe_path # Specify the path to your DataFrame CSV file (default will be FTIR_dataframe.csv in active directory)\n",
    "FTIR_dataframe.to_csv(dataframe_path, index=False)"
   ]
  }
 ],
 "metadata": {
  "kernelspec": {
   "display_name": "FTIR-SCAN",
   "language": "python",
   "name": "python3"
  },
  "language_info": {
   "codemirror_mode": {
    "name": "ipython",
    "version": 3
   },
   "file_extension": ".py",
   "mimetype": "text/x-python",
   "name": "python",
   "nbconvert_exporter": "python",
   "pygments_lexer": "ipython3",
   "version": "3.13.7"
  }
 },
 "nbformat": 4,
 "nbformat_minor": 5
}
