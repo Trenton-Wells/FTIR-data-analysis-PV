{
 "cells": [
  {
   "cell_type": "code",
   "execution_count": null,
   "id": "832ad856",
   "metadata": {},
   "outputs": [],
   "source": [
    "import os\n",
    "import pandas as pd\n",
    "from prompt_toolkit import prompt\n",
    "from Dataframe_Modification import baseline_selection, cast_param_types, get_default_params, parse_parameters, prompt_parameters\n",
    "from File_Info_Gathering import file_info_extractor"
   ]
  },
  {
   "cell_type": "markdown",
   "id": "ffae5f63",
   "metadata": {},
   "source": [
    "# FTIR Data Analysis Main Workflow\n",
    "This notebook guides you through the main steps of the FTIR data analysis workflow, including file renaming, dataframe creation or modification, and baseline correction parameter management."
   ]
  },
  {
   "cell_type": "code",
   "execution_count": null,
   "id": "c80c6551",
   "metadata": {},
   "outputs": [],
   "source": [
    "# Change files (y/n)\n",
    "File_Change = input(\"Do you want to change any file names? (y/n): \" ).lower()\n",
    "if File_Change.lower() == 'quit':\n",
    "    print(\"Exiting program.\")\n",
    "    quit()\n",
    "if File_Change == 'y':\n",
    "    from Fixing_File_Names import batch_rename_files\n",
    "    directory = input(\"Enter the directory to scan for file renaming (or press Enter to specify later): \")\n",
    "    if directory.lower() == 'quit':\n",
    "        print(\"Exiting program.\")\n",
    "        quit()\n",
    "    if not directory:\n",
    "        directory = None\n",
    "        print(\"No file renaming will be done.\")\n",
    "    batch_rename_files(directory)\n",
    "else:\n",
    "    print(\"No file renaming will be done.\")"
   ]
  },
  {
   "cell_type": "markdown",
   "id": "a69f49c6",
   "metadata": {},
   "source": [
    "## File Renaming Step\n",
    "You can optionally rename files in your dataset. If you choose to rename, you will be prompted for a directory and the renaming will be handled automatically."
   ]
  },
  {
   "cell_type": "code",
   "execution_count": null,
   "id": "f162543f",
   "metadata": {},
   "outputs": [],
   "source": [
    "# Create new or modify existing dataframe\n",
    "while True:\n",
    "    New_or_Existing = input(\"Do you want to create a new dataframe or append new files into an existing one? (new/append): \" ).lower()\n",
    "    if New_or_Existing.lower() == 'quit':\n",
    "        print(\"Exiting program.\")\n",
    "        raise SystemExit\n",
    "    elif New_or_Existing == 'new':\n",
    "        print(\"Creating a new dataframe.\")\n",
    "        file_info_extractor()\n",
    "        break\n",
    "    elif New_or_Existing == 'append':\n",
    "        print(\"Appending new files into an existing dataframe.\")\n",
    "        file_info_extractor()\n",
    "        break\n",
    "    else:\n",
    "        print(\"Invalid option. Please enter 'new' or 'append'.\")"
   ]
  },
  {
   "cell_type": "markdown",
   "id": "ad02311b",
   "metadata": {},
   "source": [
    "## DataFrame Creation or Modification\n",
    "Choose whether to create a new dataframe from your files or append new files to an existing dataframe. This step gathers file information and builds the main data structure for analysis."
   ]
  },
  {
   "cell_type": "code",
   "execution_count": null,
   "id": "39c3ff93",
   "metadata": {},
   "outputs": [],
   "source": [
    "# Baseline correction options\n",
    "while True:\n",
    "    modify_choice = input(\"Do you want to modify the baseline function and parameters in the dataframe? (y/n): \" ).lower()\n",
    "    if modify_choice == 'quit':\n",
    "        print(\"Exiting program.\")\n",
    "        quit()\n",
    "    elif modify_choice == 'n':\n",
    "        print(\"No modifications will be made to the dataframe.\")\n",
    "        break\n",
    "    elif modify_choice == 'y':\n",
    "        while True:\n",
    "            csv_path = input(\"Enter the path to the existing CSV file (or type 'quit' to exit): \" )\n",
    "            if csv_path.lower() == 'quit':\n",
    "                print(\"Exiting program.\")\n",
    "                raise SystemExit\n",
    "            if not os.path.isfile(csv_path):\n",
    "                print(f\"File not found: {csv_path}. Please enter a valid path or type 'quit' to exit.\")\n",
    "            else:\n",
    "                break\n",
    "        baseline_selection(csv_path)\n",
    "        break\n",
    "    else:\n",
    "        print(\"Invalid option. Please enter 'y' or 'n'.\")"
   ]
  },
  {
   "cell_type": "markdown",
   "id": "254fcae0",
   "metadata": {},
   "source": [
    "## Baseline Correction Options\n",
    "You can modify the baseline correction function and its parameters for your dataframe. This step allows you to fine-tune how baseline correction is applied to your FTIR data."
   ]
  }
 ],
 "metadata": {
  "language_info": {
   "name": "python"
  }
 },
 "nbformat": 4,
 "nbformat_minor": 5
}
