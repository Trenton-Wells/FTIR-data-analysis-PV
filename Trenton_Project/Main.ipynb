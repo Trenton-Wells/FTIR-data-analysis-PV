{
 "cells": [
  {
   "cell_type": "markdown",
   "id": "ffae5f63",
   "metadata": {},
   "source": [
    "# FTIR Data Analysis Main Workflow\n",
    "This notebook guides you through the main steps of the FTIR data analysis workflow, including file renaming, DataFrame creation or modification, and baseline correction parameter management.\n",
    "\n",
    "Note: multiple interactive cells can't be open at the same time, so click 'close' when done with one."
   ]
  },
  {
   "cell_type": "markdown",
   "id": "baac3563",
   "metadata": {},
   "source": [
    "## 1) Setup\n",
    "### Import Statements\n",
    "Import necessary libraries and modules for data analysis and visualization."
   ]
  },
  {
   "cell_type": "code",
   "execution_count": 1,
   "id": "58e5b728",
   "metadata": {},
   "outputs": [],
   "source": [
    "import pandas as pd\n",
    "from Fixing_File_Names import batch_rename_files\n",
    "from File_Info_Gathering import file_info_extractor\n",
    "from IPython.display import display, HTML\n",
    "from Fixing_File_Names import batch_rename_files\n",
    "from Analysis_FTIR import (\n",
    "    anchor_points_selection,\n",
    "    normalization_peak_selection,\n",
    "    plot_grouped_spectra,\n",
    "    try_baseline,\n",
    "    bring_in_DataFrame,\n",
    "    test_baseline_choices,\n",
    "    spectrum_normalization,\n",
    "    baseline_correction,\n",
    "    find_peak_info,\n",
    "    peak_deconvolution\n",
    ")\n",
    "try:# Colab Compatibility\n",
    "    from google.colab import output  # type: ignore \n",
    "\n",
    "    output.enable_custom_widget_manager()\n",
    "    In_Colab = True\n",
    "except Exception:\n",
    "    In_Colab = False"
   ]
  },
  {
   "cell_type": "markdown",
   "id": "a69f49c6",
   "metadata": {},
   "source": [
    "### File Renaming\n",
    "You can optionally rename files in your dataset.\n",
    "\n",
    "This script scans a specified root directory and its subdirectories to find and rename files. Folder names will not be changed,except in the case of date renaming to ISO format (e.g., 2025-09-18) (optional). It works by replacing spaces and/or specified words in the filenames. (e.g., replacing spaces with underscores). Suggested to use this tool if file names have inconsistent naming conventions that may cause issues in downstream processing."
   ]
  },
  {
   "cell_type": "code",
   "execution_count": null,
   "id": "c80c6551",
   "metadata": {},
   "outputs": [],
   "source": [
    "# Set directory to rename folders and files within (e.g., r\"C:\\Users\\user1\\folder1\").\n",
    "directory = r\"C:\\Users\\user1\\folder1\"\n",
    "# If you want to replace spaces in filenames, set replace_spaces to True and set \n",
    "# character_to_use to the desired separator (e.g., \"_\").\n",
    "replace_spaces = False\n",
    "character_to_use = \"_\"\n",
    "# If you want to convert all dates in the directory names to ISO format (YYYY-MM-DD), \n",
    "# set iso_date_rename to True\n",
    "iso_date_rename = False\n",
    "# If you want to replace other specified words in filenames, set file_rename to True and\n",
    "# provide pairs_input (e.g., \"old1:new1,old2:new2\").\n",
    "file_rename = False\n",
    "pairs_input = \"old1:new1,old2:new2\"\n",
    "# If any of these parameters are set to None, you will be prompted for input (may result\n",
    "# in multiple prompts and/or minor formatting issues).\n",
    "# Rename files in the specified directory.\n",
    "batch_rename_files(\n",
    "    directory=directory,\n",
    "    replace_spaces=replace_spaces,\n",
    "    character_to_use=character_to_use,\n",
    "    iso_date_rename=iso_date_rename,\n",
    "    file_rename=file_rename,\n",
    "    pairs_input=pairs_input,\n",
    ")"
   ]
  },
  {
   "cell_type": "markdown",
   "id": "c55543b1",
   "metadata": {},
   "source": [
    "### Load or create DataFrame\n",
    "The DataFrame stores all of the relevant information on the spectra in an easily organized format. Processes within this Notebook often refer to the DataFrame within the working memory, and it is saved at the end of the Notebook. If running this for the first time, this cell creates a blank DataFrame that will be filled in by the next cell."
   ]
  },
  {
   "cell_type": "code",
   "execution_count": 2,
   "id": "d5ef5b29",
   "metadata": {},
   "outputs": [],
   "source": [
    "# Set path to your DataFrame CSV file. Leave as None if DataFrame is new or in default \n",
    "# location.\n",
    "DataFrame_path = None\n",
    "\n",
    "FTIR_DataFrame, DataFrame_path = bring_in_DataFrame(DataFrame_path=DataFrame_path)"
   ]
  },
  {
   "cell_type": "markdown",
   "id": "ad02311b",
   "metadata": {},
   "source": [
    "### Fill or Append Spectra to DataFrame\n",
    "Gathers file information and builds the main data structure for analysis. Repeated uses can append new data into the existing DataFrame.\n",
    "\n",
    "The DataFrame will have a row for each spectrum file, with columns as follows:\n",
    "\n",
    "File Location, File Name, Date, Conditions, Material, Time, X-Axis, Raw Data, Baseline Function, Baseline Parameters, Baseline, Baseline-Corrected Data, Normalization Peak Wavenumber, Normalized and Corrected Data\n",
    "\n",
    "This function will append any files that aren't already included.\n",
    "If FTIR_DataFrame is empty it will create it from scratch."
   ]
  },
  {
   "cell_type": "code",
   "execution_count": null,
   "id": "f162543f",
   "metadata": {},
   "outputs": [],
   "source": [
    "# Set directory containing files to analyze (e.g., r\"C:\\Users\\user1\\folder1\").\n",
    "directory = r\"Y:\\5200\\Packaging Reliability\\Durability Tool\\Ray Tracing and Activation Spectrum\\ATR-FTIR Data\"\n",
    "# Set file types to include (e.g., [\".dpt\", \".txt\", \".csv\"]).\n",
    "file_types = \".dpt\"\n",
    "# Set separators to use when finding terms within filenames (e.g., [\"_\", \" \"])\n",
    "separators = \"_\"\n",
    "# Set material terms to search for in filenames (e.g., [\"Si\", \"Perovskite\", \"Glass\"]) \n",
    "# (case-insensitive).\n",
    "material_terms = \"CPC, t-PVDF, t-PVF, o-PVF, PPE, J-BOX#1, J-BOX#2, PO, PMMA\"\n",
    "# Set conditions terms to search for in filenames (e.g., [\"A3\", \"A4\", \"B3\", \"B4\"])\n",
    "conditions_terms = \"A3, A4, A5, 0.5X, 1X, 2.5X, 5X, ARC, OPN, KKCE, unexposed\"\n",
    "# Set append_missing to False to add only files which have all required information, or \n",
    "# True to add files even if some information is missing (may lead to issues downstream)\n",
    "append_missing = False\n",
    "# Set track_replicates to True to print the groups of replicate files\n",
    "access_subdirectories = False\n",
    "# Set access_subdirectories to False if you only want to search within folders in the\n",
    "# specified directory that have dates as their names. This lets you avoid searching\n",
    "# through unrelated folders that happen to be in the same directory.\n",
    "track_replicates = False\n",
    "# If any of these parameters are set to None, you will be prompted for input (may result\n",
    "# in multiple prompts and/or minor formatting issues).\n",
    "\n",
    "# Extract File Information and build or append to the main DataFrame.\n",
    "FTIR_DataFrame = file_info_extractor(\n",
    "    FTIR_DataFrame=FTIR_DataFrame,\n",
    "    directory=directory,\n",
    "    file_types=file_types,\n",
    "    separators=separators,\n",
    "    material_terms=material_terms,\n",
    "    conditions_terms=conditions_terms,\n",
    "    append_missing=append_missing,\n",
    "    access_subdirectories=access_subdirectories,\n",
    "    track_replicates=track_replicates,\n",
    ")"
   ]
  },
  {
   "cell_type": "markdown",
   "id": "1c1ebbd8",
   "metadata": {},
   "source": [
    "### Display DataFrame"
   ]
  },
  {
   "cell_type": "code",
   "execution_count": null,
   "id": "62a19bbb",
   "metadata": {},
   "outputs": [],
   "source": [
    "pd.set_option(\"display.max_columns\", None)\n",
    "pd.set_option(\"display.max_rows\", None)\n",
    "display(\n",
    "    HTML(\n",
    "        '<div style=\"height:500px;overflow:auto;\">'\n",
    "        + FTIR_DataFrame.to_html(max_rows=None, max_cols=None, notebook=True)\n",
    "        + \"</div>\"\n",
    "    )\n",
    ")"
   ]
  },
  {
   "cell_type": "markdown",
   "id": "e21d25f0",
   "metadata": {},
   "source": [
    "### Plot Spectra\n",
    "Pick the material(s), condition(s), time(s) and which version of those files' data to plot.\n",
    "\n",
    "A group plot is always created, but if separate_plots = True, then each spectrum will also be plotted individually.\n",
    "\n",
    "If include_replicates = False, then the only first file found with those terms will be used."
   ]
  },
  {
   "cell_type": "code",
   "execution_count": null,
   "id": "3e0d7d11",
   "metadata": {},
   "outputs": [],
   "source": [
    "# Set parameters for filtering and plotting\n",
    "materials = \"CPC\"  # Example material\n",
    "conditions = \"KKCE, unexposed\"  # Example conditions\n",
    "times = \"any\"  # Example time\n",
    "raw_data = True\n",
    "baseline = False\n",
    "baseline_corrected = False\n",
    "normalized = False\n",
    "separate_plots = True\n",
    "include_replicates = False\n",
    "zoom = (\n",
    "    None  # Set to \"x_minimum-x_maximum\" format, e.g., \"400-4000\", or None for no zoom\n",
    ")\n",
    "\n",
    "# Plot the grouped spectra\n",
    "%matplotlib inline\n",
    "plot_grouped_spectra(\n",
    "    FTIR_DataFrame=FTIR_DataFrame,\n",
    "    materials=materials,\n",
    "    conditions=conditions,\n",
    "    times=times,\n",
    "    raw_data=raw_data,\n",
    "    baseline=baseline,\n",
    "    baseline_corrected=baseline_corrected,\n",
    "    normalized=normalized,\n",
    "    separate_plots=separate_plots,\n",
    "    include_replicates=include_replicates,\n",
    "    zoom=zoom,\n",
    ")"
   ]
  },
  {
   "cell_type": "markdown",
   "id": "254fcae0",
   "metadata": {},
   "source": [
    "## 2) Baseline Correction\n",
    "You can choose a baseline approximation function for each different material that you have data for. It's recommended that you use 'ARPLS' with tweaked parameters or use 'Manual'. However, some datasets work better with different methods, so experiment if necessary.\n",
    "\n",
    "Baseline Options:\n",
    "\n",
    "Asymmetric Least Square \n",
    "\n",
    "    'ARPLS': asymmetrically reweighted penalized least squares smoothing-- an asymmetric least square method that uses a weighting function to account for noisy data.\n",
    "\n",
    "Spline\n",
    "\n",
    "    'IRSQR': iterative reweighted spline quantile regression-- uses penalized splines and iterative reweighted least squares to perform quantile regression.\n",
    "\n",
    "Classification\n",
    "\n",
    "    'FABC': fully automatic baseline correction-- uses first derivative approximation of data to identify and then ignore peak regions, then fits to baseline regions using Whittaker smoothing.\n",
    "\n",
    "Manual\n",
    "\n",
    "    'Manual': set \"anchor points\" for each of your materials using the built-in tool. This will create a list of wavenumber values that should always fall in the baseline regions for each spectrum of that material. A cubic spline interpolation will be done between those points' values in each scan."
   ]
  },
  {
   "cell_type": "markdown",
   "id": "63de6414",
   "metadata": {},
   "source": [
    "### Baselines\n",
    "Try out different baseline types and parameter options. The function will find the first file of your selected material with time == 0 (aka non-degraded) and display what the currently chosen settings will create for a baseline."
   ]
  },
  {
   "cell_type": "markdown",
   "id": "db9338dd",
   "metadata": {},
   "source": [
    "#### For non-manual baselines:\n",
    "For custom parameters, move sliders or type desired value into box and hit 'enter'.\n",
    "\n",
    "Accepts a filepath as an argument if you want to experiment with a specific file. In that case, \"material\" argument will be ignored."
   ]
  },
  {
   "cell_type": "code",
   "execution_count": null,
   "id": "08671e15",
   "metadata": {},
   "outputs": [],
   "source": [
    "filepath = None  # If None, will find first Time-Zero file of the specified material\n",
    "material = \"PPE\"  # Specify material to analyze (e.g., \"PPE\", with quotes).\n",
    "baseline_function = \"ARPLS\"  # Specify baseline function to try (options: \n",
    "# \"ARPLS\", \"IRSQR\", \"FABC\", quotes included).\n",
    "parameter_string = None  # For custom parameters, structure like so: \n",
    "# parameter_string=\"lam=100, quantile=0.05\". Default parameters will be used if None.\n",
    "\n",
    "try_baseline(\n",
    "    FTIR_DataFrame,\n",
    "    material=material,\n",
    "    baseline_function=baseline_function,\n",
    "    parameter_string=parameter_string,\n",
    "    filepath=filepath,\n",
    ")"
   ]
  },
  {
   "cell_type": "markdown",
   "id": "b7390268",
   "metadata": {},
   "source": [
    "#### For manual baseline:\n",
    "If an error appears on repeated running of this cell, simply click 'continue' and scroll down-- the error will clear."
   ]
  },
  {
   "cell_type": "code",
   "execution_count": null,
   "id": "371be43f",
   "metadata": {},
   "outputs": [],
   "source": [
    "filepath = None  # If None, will find first Time-Zero file of the specified material\n",
    "material = \"CPC\"\n",
    "anchor_points_selection(\n",
    "    FTIR_DataFrame,\n",
    "    material=material,\n",
    "    filepath=filepath,\n",
    "    try_it_out=True\n",
    ")"
   ]
  },
  {
   "cell_type": "markdown",
   "id": "66a417cf",
   "metadata": {},
   "source": [
    "#### ARPLS Parameters\n",
    "lam (float): Smoothness parameter (higher = smoother baseline).\n",
    "\n",
    "diff_order (integer): Order of the differential matrix.\n",
    "\n",
    "max_iter (integer): Max number of fit iterations.\n",
    "\n",
    "tol (float): Exit criteria (accuracy goal)."
   ]
  },
  {
   "cell_type": "markdown",
   "id": "1e829e29",
   "metadata": {},
   "source": [
    "#### IRSQR Parameters\n",
    "lam (float): The smoothing parameter (higher = smoother baseline).\n",
    "\n",
    "quantile (float): The quantile at which to fit the baseline (0 < quantile < 1).\n",
    "\n",
    "num_knots (integer): The number of knots for the spline.\n",
    "\n",
    "spline_degree (integer): The degree of the spline.\n",
    "\n",
    "diff_order (integer): The order of the differential matrix. Must be greate matrix). Typical values are 3, 2, or 1.\n",
    "\n",
    "max_iter (integer): The max number of fit iterations.\n",
    "\n",
    "tol (float): Exit criteria (accuracy goal).\n",
    "\n",
    "weights (array-like): The weighting array. If None (default), then the initial weights will be an array with size equal to N and all values set to 1.\n",
    "\n",
    "eps (float): A small value added to the square of the residual to prevent dividing by 0. Default is None, which uses the square of the maximum-absolute-value of the fit each iteration multiplied by 1e-6."
   ]
  },
  {
   "cell_type": "markdown",
   "id": "12707a81",
   "metadata": {},
   "source": [
    "#### FABC Parameters\n",
    "lam (float): The smoothing parameter (higher = smoother baseline).\n",
    "\n",
    "scale (integer): The scale at which to calculate the continuous wavelet transform. Should be approximately equal to the index-based full-width-at-half-maximum of the peaks or features in the data. Default is None, which will use half of the value from :func:`.optimize_window`, which is not always a good value, but at least scales with the number of data points and gives a starting point for tuning the parameter.\n",
    "\n",
    "num_std (float): The number of standard deviations to include when thresholding. Higher values\n",
    "will assign more points as baseline.\n",
    "\n",
    "diff_order (integer): The order of the differential matrix. Must be greater than 0. Typical values are 2 or 1.\n",
    "\n",
    "min_length (integer): Any region of consecutive baseline points less than `min_length` is considered to be a false positive and all points in the region are converted to peak points. A higher `min_length` ensures less points are falsely assigned as baseline points. Default is 2, which only removes lone baseline points.\n",
    "\n",
    "weights (array-like): The weighting array, used to override the function's baseline identification to designate peak points. Only elements with 0 or False values will have an effect; all non-zero values are considered baseline points. If None, then will be an array with size equal to N and all values set to 1.\n",
    "\n",
    "weights_as_mask (bool): If True, signifies that the input `weights` is the mask to use for fitting, which skips the continuous wavelet calculation and just smooths the input data.\n",
    "\n",
    "pad_kwargs (dict): A dictionary of keyword arguments to pass to :func:`.pad_edges` for padding the edges of the data to prevent edge effects from convolution for the continuous wavelet transform. Default is None."
   ]
  },
  {
   "cell_type": "markdown",
   "id": "963f3c89",
   "metadata": {},
   "source": [
    "#### Manual Parameters\n",
    "anchor_points (float): The manually selected anchor points, from which the baseline is constructed via a cubic spline interpolation between them. The points are selected in one file from the regions that should always remain outside of peaks for that material, under reasonable degradation conditions. The points associated with these wavenumbers will be accessed in each file and a separate interpolation will be done for each one. So while the anchor points are the same in every spectrum, the actual baseline correction will be personalized for each."
   ]
  },
  {
   "cell_type": "markdown",
   "id": "d440147b",
   "metadata": {},
   "source": [
    "### Test Baseline and Parameter Choices\n",
    "Generates plots with the selected baseline and parameters for three random files of the specified material. Allows for quality check."
   ]
  },
  {
   "cell_type": "code",
   "execution_count": null,
   "id": "628c80d4",
   "metadata": {},
   "outputs": [],
   "source": [
    "material = \"PPE\"  # Specify material to analyze (e.g., \"PPE\", with quotes).\n",
    "test_baseline_choices(FTIR_DataFrame, material=material)"
   ]
  },
  {
   "cell_type": "markdown",
   "id": "b01b9297",
   "metadata": {},
   "source": [
    "### Confirm & Calculate Choices\n",
    "Calculates the baseline-corrected spectra and updates the DataFrame with the new data."
   ]
  },
  {
   "cell_type": "code",
   "execution_count": null,
   "id": "68433118",
   "metadata": {},
   "outputs": [],
   "source": [
    "materials = \"PPE\"  # Specify materials to correct (e.g., \"PPE, PVF\", or \"all\").\n",
    "FTIR_DataFrame = baseline_correction(FTIR_DataFrame, materials=materials)"
   ]
  },
  {
   "cell_type": "markdown",
   "id": "08e6e58c",
   "metadata": {},
   "source": [
    "## 3) Normalization"
   ]
  },
  {
   "cell_type": "markdown",
   "id": "3f5beab2",
   "metadata": {},
   "source": [
    "### Normalization Peak Selection\n",
    "Select a peak for each material that does not change shape with time (aka does not degrade). Each spectrum of that material will be scaled so that the normalization peak is the same amplitude in each, giving a normalized set of spectra that can be more accurately compared to each other."
   ]
  },
  {
   "cell_type": "code",
   "execution_count": null,
   "id": "a495f57e",
   "metadata": {},
   "outputs": [],
   "source": [
    "material = \"PPE\" # Specify material to analyze (e.g., \"PPE\", with quotes).\n",
    "filepath = None  # If None, will find first Time-Zero file of the specified material. If\n",
    "# specified, should be full file path as string with r\"\" (e.g., r\"C:\\path\\to\\file.dpt\").\n",
    "FTIR_DataFrame = normalization_peak_selection(\n",
    "    FTIR_DataFrame, material=material, filepath=filepath\n",
    "    )"
   ]
  },
  {
   "cell_type": "markdown",
   "id": "b539ec22",
   "metadata": {},
   "source": [
    "### Spectra Normalization\n",
    "Normalize the spectra of the chosen material to allow for further analysis."
   ]
  },
  {
   "cell_type": "code",
   "execution_count": null,
   "id": "8970cf5a",
   "metadata": {},
   "outputs": [],
   "source": [
    "material = \"PPE\"  # Specify material to analyze (e.g., \"PPE\", with quotes).\n",
    "FTIR_DataFrame = spectrum_normalization(FTIR_DataFrame, material=material)"
   ]
  },
  {
   "cell_type": "markdown",
   "id": "88f04e6b",
   "metadata": {},
   "source": [
    "## 4) Peak Finding & Deconvolution"
   ]
  },
  {
   "cell_type": "markdown",
   "id": "07bb4936",
   "metadata": {},
   "source": [
    "### Peak Finding\n",
    "Utilize range 2 and range 3 within the interactive tool in order to specify multiple peak regions.\n",
    "\n",
    "Close when complete."
   ]
  },
  {
   "cell_type": "code",
   "execution_count": null,
   "id": "efd9b617",
   "metadata": {},
   "outputs": [
    {
     "data": {
      "application/vnd.jupyter.widget-view+json": {
       "model_id": "a9be03df242f47809dbc3d603bd1e452",
       "version_major": 2,
       "version_minor": 0
      },
      "text/plain": [
       "VBox(children=(HBox(children=(Dropdown(description='Spectrum', layout=Layout(width='70%'), options=(('PPE | 0.…"
      ]
     },
     "metadata": {},
     "output_type": "display_data"
    },
    {
     "data": {
      "application/vnd.jupyter.widget-view+json": {
       "model_id": "cc44ab6fe89a4fb29f1e4fc53e8a686d",
       "version_major": 2,
       "version_minor": 0
      },
      "text/plain": [
       "FigureWidget({\n",
       "    'data': [{'mode': 'lines',\n",
       "              'name': 'Normalized and Corrected',\n",
       "              'type': 'scatter',\n",
       "              'uid': 'c197f1e9-8803-4112-8c5b-f81fe5e7d433',\n",
       "              'x': {'bdata': ('vyuC/608r0AG2EennjqvQE2EDU+POK' ... '7jwgEbeUA4oRABhwp5QHEDPj8M+nhA'),\n",
       "                    'dtype': 'f8'},\n",
       "              'y': {'bdata': ('bXCHW0vdJD8eSTXWT5MIP2nrjgWJKC' ... 'ZzLbM5Rj/gG6PJpcFRv+xDRE6fcFm/'),\n",
       "                    'dtype': 'f8'}},\n",
       "             {'marker': {'color': 'red', 'size': 9, 'symbol': 'x'},\n",
       "              'mode': 'markers',\n",
       "              'name': 'Peaks',\n",
       "              'type': 'scatter',\n",
       "              'uid': '27b55289-927f-4098-b979-288061c266ea',\n",
       "              'x': [],\n",
       "              'y': []}],\n",
       "    'layout': {'template': '...',\n",
       "               'title': {'text': 'Peak Selection (live)'},\n",
       "               'xaxis': {'title': {'text': 'Wavenumber (cm⁻¹)'}},\n",
       "               'yaxis': {'title': {'text': 'Absorbance (AU)'}}}\n",
       "})"
      ]
     },
     "metadata": {},
     "output_type": "display_data"
    },
    {
     "data": {
      "application/vnd.jupyter.widget-view+json": {
       "model_id": "8b2843b5817a4e18897ec08e7bdc9647",
       "version_major": 2,
       "version_minor": 0
      },
      "text/plain": [
       "Output()"
      ]
     },
     "metadata": {},
     "output_type": "display_data"
    }
   ],
   "source": [
    "materials = \"PPE\"  # Specify materials to find peaks for (e.g., \"PPE, PVF\", or \"all\").\n",
    "filepath = None # If not None, will override material search and use specified filename\n",
    "FTIR_DataFrame = find_peak_info(FTIR_DataFrame, materials=materials, filepath=filepath)"
   ]
  },
  {
   "cell_type": "markdown",
   "id": "0235d9ae",
   "metadata": {},
   "source": [
    "### Deconvolution\n",
    "If a peak should be steeper (go towards zero faster as it leaves its center point), then decrease that peak's α value. If a peak should be wider, do the opposite. The \"Reduced chi-square\" value is an approximation of the error between the model and the data, but visual tests are also useful for that purpose."
   ]
  },
  {
   "cell_type": "code",
   "execution_count": 4,
   "id": "5296e0a6",
   "metadata": {},
   "outputs": [
    {
     "data": {
      "application/vnd.jupyter.widget-view+json": {
       "model_id": "f5488208cd49449eb0fa6f34997b06f0",
       "version_major": 2,
       "version_minor": 0
      },
      "text/plain": [
       "VBox(children=(HBox(children=(Dropdown(description='Spectrum', layout=Layout(width='70%'), options=(('PPE | 0.…"
      ]
     },
     "metadata": {},
     "output_type": "display_data"
    },
    {
     "data": {
      "application/vnd.jupyter.widget-view+json": {
       "model_id": "7919fcde5dda47fc8ebe1038ef05dcf3",
       "version_major": 2,
       "version_minor": 0
      },
      "text/plain": [
       "FigureWidget({\n",
       "    'data': [{'mode': 'lines',\n",
       "              'name': 'Data (Norm+Corr)',\n",
       "              'type': 'scatter',\n",
       "              'uid': '5e7e4f71-a12c-4a88-b060-46762918f34e',\n",
       "              'x': {'bdata': ('vyuC/608r0AG2EennjqvQE2EDU+POK' ... '7jwgEbeUA4oRABhwp5QHEDPj8M+nhA'),\n",
       "                    'dtype': 'f8'},\n",
       "              'y': {'bdata': ('bXCHW0vdJD8eSTXWT5MIP2nrjgWJKC' ... 'ZzLbM5Rj/gG6PJpcFRv+xDRE6fcFm/'),\n",
       "                    'dtype': 'f8'}},\n",
       "             {'line': {'color': 'red'},\n",
       "              'mode': 'lines',\n",
       "              'name': 'Composite Fit',\n",
       "              'type': 'scatter',\n",
       "              'uid': '18affe05-5f36-4c94-9c78-305f66602d80',\n",
       "              'x': [],\n",
       "              'y': []}],\n",
       "    'layout': {'template': '...',\n",
       "               'title': {'text': 'Peak Deconvolution (Pseudo-Voigt)'},\n",
       "               'xaxis': {'title': {'text': 'Wavenumber (cm⁻¹)'}},\n",
       "               'yaxis': {'title': {'text': 'Absorbance (AU)'}}}\n",
       "})"
      ]
     },
     "metadata": {},
     "output_type": "display_data"
    },
    {
     "data": {
      "application/vnd.jupyter.widget-view+json": {
       "model_id": "22bbfe20291b4bbe8c49d4a029a7d1f3",
       "version_major": 2,
       "version_minor": 0
      },
      "text/plain": [
       "Output()"
      ]
     },
     "metadata": {},
     "output_type": "display_data"
    },
    {
     "data": {
      "text/html": [
       "<div>\n",
       "<style scoped>\n",
       "    .dataframe tbody tr th:only-of-type {\n",
       "        vertical-align: middle;\n",
       "    }\n",
       "\n",
       "    .dataframe tbody tr th {\n",
       "        vertical-align: top;\n",
       "    }\n",
       "\n",
       "    .dataframe thead th {\n",
       "        text-align: right;\n",
       "    }\n",
       "</style>\n",
       "<table border=\"1\" class=\"dataframe\">\n",
       "  <thead>\n",
       "    <tr style=\"text-align: right;\">\n",
       "      <th></th>\n",
       "      <th>File Location</th>\n",
       "      <th>File Name</th>\n",
       "      <th>Date</th>\n",
       "      <th>Conditions</th>\n",
       "      <th>Material</th>\n",
       "      <th>Time</th>\n",
       "      <th>X-Axis</th>\n",
       "      <th>Raw Data</th>\n",
       "      <th>Baseline Function</th>\n",
       "      <th>Baseline Parameters</th>\n",
       "      <th>Baseline</th>\n",
       "      <th>Baseline-Corrected Data</th>\n",
       "      <th>Normalization Peak Wavenumber</th>\n",
       "      <th>Normalized and Corrected Data</th>\n",
       "      <th>Peak Wavenumbers</th>\n",
       "      <th>Peak Absorbances</th>\n",
       "      <th>Deconvolution Results</th>\n",
       "    </tr>\n",
       "  </thead>\n",
       "  <tbody>\n",
       "    <tr>\n",
       "      <th>0</th>\n",
       "      <td>Y:\\5200\\Packaging Reliability\\Durability Tool\\...</td>\n",
       "      <td>CPC_A3_500hr.dpt</td>\n",
       "      <td>05-22-2024</td>\n",
       "      <td>A3</td>\n",
       "      <td>CPC</td>\n",
       "      <td>500</td>\n",
       "      <td>[3998.33984, 3997.30987, 3996.2799, 3995.24993...</td>\n",
       "      <td>[0.02034, 0.02032, 0.02046, 0.02068, 0.02069, ...</td>\n",
       "      <td>NaN</td>\n",
       "      <td>NaN</td>\n",
       "      <td>NaN</td>\n",
       "      <td>NaN</td>\n",
       "      <td>NaN</td>\n",
       "      <td>NaN</td>\n",
       "      <td>None</td>\n",
       "      <td>None</td>\n",
       "      <td>None</td>\n",
       "    </tr>\n",
       "    <tr>\n",
       "      <th>1</th>\n",
       "      <td>Y:\\5200\\Packaging Reliability\\Durability Tool\\...</td>\n",
       "      <td>O-PVF_A3_500hr.dpt</td>\n",
       "      <td>05-22-2024</td>\n",
       "      <td>A3</td>\n",
       "      <td>o-PVF</td>\n",
       "      <td>500</td>\n",
       "      <td>[3998.33984, 3997.30987, 3996.2799, 3995.24993...</td>\n",
       "      <td>[0.02148, 0.02145, 0.02154, 0.02161, 0.02163, ...</td>\n",
       "      <td>NaN</td>\n",
       "      <td>NaN</td>\n",
       "      <td>NaN</td>\n",
       "      <td>NaN</td>\n",
       "      <td>NaN</td>\n",
       "      <td>NaN</td>\n",
       "      <td>None</td>\n",
       "      <td>None</td>\n",
       "      <td>None</td>\n",
       "    </tr>\n",
       "    <tr>\n",
       "      <th>2</th>\n",
       "      <td>Y:\\5200\\Packaging Reliability\\Durability Tool\\...</td>\n",
       "      <td>T-PVDF_A3_500hr.dpt</td>\n",
       "      <td>05-22-2024</td>\n",
       "      <td>A3</td>\n",
       "      <td>t-PVDF</td>\n",
       "      <td>500</td>\n",
       "      <td>[3998.33984, 3997.30987, 3996.2799, 3995.24993...</td>\n",
       "      <td>[0.002, 0.0021, 0.00239, 0.00261, 0.0026, 0.00...</td>\n",
       "      <td>NaN</td>\n",
       "      <td>NaN</td>\n",
       "      <td>NaN</td>\n",
       "      <td>NaN</td>\n",
       "      <td>NaN</td>\n",
       "      <td>NaN</td>\n",
       "      <td>None</td>\n",
       "      <td>None</td>\n",
       "      <td>None</td>\n",
       "    </tr>\n",
       "    <tr>\n",
       "      <th>3</th>\n",
       "      <td>Y:\\5200\\Packaging Reliability\\Durability Tool\\...</td>\n",
       "      <td>T-PVF_A3_500hr.dpt</td>\n",
       "      <td>05-22-2024</td>\n",
       "      <td>A3</td>\n",
       "      <td>t-PVF</td>\n",
       "      <td>500</td>\n",
       "      <td>[3998.33984, 3997.30987, 3996.2799, 3995.24993...</td>\n",
       "      <td>[0.0054, 0.00536, 0.00535, 0.00538, 0.00547, 0...</td>\n",
       "      <td>NaN</td>\n",
       "      <td>NaN</td>\n",
       "      <td>NaN</td>\n",
       "      <td>NaN</td>\n",
       "      <td>NaN</td>\n",
       "      <td>NaN</td>\n",
       "      <td>None</td>\n",
       "      <td>None</td>\n",
       "      <td>None</td>\n",
       "    </tr>\n",
       "    <tr>\n",
       "      <th>4</th>\n",
       "      <td>Y:\\5200\\Packaging Reliability\\Durability Tool\\...</td>\n",
       "      <td>CPC_0.5X_1000hr.dpt</td>\n",
       "      <td>12-18-2024</td>\n",
       "      <td>0.5X</td>\n",
       "      <td>CPC</td>\n",
       "      <td>1000</td>\n",
       "      <td>[3998.33984, 3997.30987, 3996.2799, 3995.24993...</td>\n",
       "      <td>[-0.00232, -0.00235, -0.00243, -0.00251, -0.00...</td>\n",
       "      <td>NaN</td>\n",
       "      <td>NaN</td>\n",
       "      <td>NaN</td>\n",
       "      <td>NaN</td>\n",
       "      <td>NaN</td>\n",
       "      <td>NaN</td>\n",
       "      <td>None</td>\n",
       "      <td>None</td>\n",
       "      <td>None</td>\n",
       "    </tr>\n",
       "    <tr>\n",
       "      <th>...</th>\n",
       "      <td>...</td>\n",
       "      <td>...</td>\n",
       "      <td>...</td>\n",
       "      <td>...</td>\n",
       "      <td>...</td>\n",
       "      <td>...</td>\n",
       "      <td>...</td>\n",
       "      <td>...</td>\n",
       "      <td>...</td>\n",
       "      <td>...</td>\n",
       "      <td>...</td>\n",
       "      <td>...</td>\n",
       "      <td>...</td>\n",
       "      <td>...</td>\n",
       "      <td>...</td>\n",
       "      <td>...</td>\n",
       "      <td>...</td>\n",
       "    </tr>\n",
       "    <tr>\n",
       "      <th>373</th>\n",
       "      <td>Y:\\5200\\Packaging Reliability\\Durability Tool\\...</td>\n",
       "      <td>PMMA_unexposed.dpt</td>\n",
       "      <td>02-05-2025</td>\n",
       "      <td>unexposed</td>\n",
       "      <td>PMMA</td>\n",
       "      <td>0</td>\n",
       "      <td>[3998.33984, 3997.30987, 3996.2799, 3995.24993...</td>\n",
       "      <td>[0.00015, 0.00012, 0.00027, 0.00042, 0.00057, ...</td>\n",
       "      <td>NaN</td>\n",
       "      <td>NaN</td>\n",
       "      <td>NaN</td>\n",
       "      <td>NaN</td>\n",
       "      <td>NaN</td>\n",
       "      <td>NaN</td>\n",
       "      <td>None</td>\n",
       "      <td>None</td>\n",
       "      <td>None</td>\n",
       "    </tr>\n",
       "    <tr>\n",
       "      <th>374</th>\n",
       "      <td>Y:\\5200\\Packaging Reliability\\Durability Tool\\...</td>\n",
       "      <td>PMMA_unexposed_2.dpt</td>\n",
       "      <td>02-05-2025</td>\n",
       "      <td>unexposed</td>\n",
       "      <td>PMMA</td>\n",
       "      <td>0</td>\n",
       "      <td>[3998.33984, 3997.30987, 3996.2799, 3995.24993...</td>\n",
       "      <td>[-0.005, -0.00499, -0.005, -0.00501, -0.00469,...</td>\n",
       "      <td>NaN</td>\n",
       "      <td>NaN</td>\n",
       "      <td>NaN</td>\n",
       "      <td>NaN</td>\n",
       "      <td>NaN</td>\n",
       "      <td>NaN</td>\n",
       "      <td>None</td>\n",
       "      <td>None</td>\n",
       "      <td>None</td>\n",
       "    </tr>\n",
       "    <tr>\n",
       "      <th>375</th>\n",
       "      <td>Y:\\5200\\Packaging Reliability\\Durability Tool\\...</td>\n",
       "      <td>PMMA_unexposed_2.dpt</td>\n",
       "      <td>02-11-2025</td>\n",
       "      <td>unexposed</td>\n",
       "      <td>PMMA</td>\n",
       "      <td>0</td>\n",
       "      <td>[3998.33984, 3997.30987, 3996.2799, 3995.24993...</td>\n",
       "      <td>[0.00335, 0.00325, 0.00323, 0.00332, 0.00333, ...</td>\n",
       "      <td>NaN</td>\n",
       "      <td>NaN</td>\n",
       "      <td>NaN</td>\n",
       "      <td>NaN</td>\n",
       "      <td>NaN</td>\n",
       "      <td>NaN</td>\n",
       "      <td>None</td>\n",
       "      <td>None</td>\n",
       "      <td>None</td>\n",
       "    </tr>\n",
       "    <tr>\n",
       "      <th>376</th>\n",
       "      <td>Y:\\5200\\Packaging Reliability\\Durability Tool\\...</td>\n",
       "      <td>PMMA_unexposed.dpt</td>\n",
       "      <td>02-11-2025</td>\n",
       "      <td>unexposed</td>\n",
       "      <td>PMMA</td>\n",
       "      <td>0</td>\n",
       "      <td>[3998.33984, 3997.30987, 3996.2799, 3995.24993...</td>\n",
       "      <td>[0.00079, 0.00064, 0.0006, 0.00069, 0.00067, 0...</td>\n",
       "      <td>NaN</td>\n",
       "      <td>NaN</td>\n",
       "      <td>NaN</td>\n",
       "      <td>NaN</td>\n",
       "      <td>NaN</td>\n",
       "      <td>NaN</td>\n",
       "      <td>None</td>\n",
       "      <td>None</td>\n",
       "      <td>None</td>\n",
       "    </tr>\n",
       "    <tr>\n",
       "      <th>377</th>\n",
       "      <td>Y:\\5200\\Packaging Reliability\\Durability Tool\\...</td>\n",
       "      <td>KKCE_J-BOX#2_1000hr.dpt</td>\n",
       "      <td>02-11-2025</td>\n",
       "      <td>KKCE</td>\n",
       "      <td>J-BOX#2</td>\n",
       "      <td>1000</td>\n",
       "      <td>[3998.33984, 3997.30987, 3996.2799, 3995.24993...</td>\n",
       "      <td>[0.00031, 0.00025, 0.00019, 0.00011, 5e-05, 5e...</td>\n",
       "      <td>NaN</td>\n",
       "      <td>NaN</td>\n",
       "      <td>NaN</td>\n",
       "      <td>NaN</td>\n",
       "      <td>NaN</td>\n",
       "      <td>NaN</td>\n",
       "      <td>None</td>\n",
       "      <td>None</td>\n",
       "      <td>None</td>\n",
       "    </tr>\n",
       "  </tbody>\n",
       "</table>\n",
       "<p>378 rows × 17 columns</p>\n",
       "</div>"
      ],
      "text/plain": [
       "                                         File Location  \\\n",
       "0    Y:\\5200\\Packaging Reliability\\Durability Tool\\...   \n",
       "1    Y:\\5200\\Packaging Reliability\\Durability Tool\\...   \n",
       "2    Y:\\5200\\Packaging Reliability\\Durability Tool\\...   \n",
       "3    Y:\\5200\\Packaging Reliability\\Durability Tool\\...   \n",
       "4    Y:\\5200\\Packaging Reliability\\Durability Tool\\...   \n",
       "..                                                 ...   \n",
       "373  Y:\\5200\\Packaging Reliability\\Durability Tool\\...   \n",
       "374  Y:\\5200\\Packaging Reliability\\Durability Tool\\...   \n",
       "375  Y:\\5200\\Packaging Reliability\\Durability Tool\\...   \n",
       "376  Y:\\5200\\Packaging Reliability\\Durability Tool\\...   \n",
       "377  Y:\\5200\\Packaging Reliability\\Durability Tool\\...   \n",
       "\n",
       "                   File Name        Date Conditions Material  Time  \\\n",
       "0           CPC_A3_500hr.dpt  05-22-2024         A3      CPC   500   \n",
       "1         O-PVF_A3_500hr.dpt  05-22-2024         A3    o-PVF   500   \n",
       "2        T-PVDF_A3_500hr.dpt  05-22-2024         A3   t-PVDF   500   \n",
       "3         T-PVF_A3_500hr.dpt  05-22-2024         A3    t-PVF   500   \n",
       "4        CPC_0.5X_1000hr.dpt  12-18-2024       0.5X      CPC  1000   \n",
       "..                       ...         ...        ...      ...   ...   \n",
       "373       PMMA_unexposed.dpt  02-05-2025  unexposed     PMMA     0   \n",
       "374     PMMA_unexposed_2.dpt  02-05-2025  unexposed     PMMA     0   \n",
       "375     PMMA_unexposed_2.dpt  02-11-2025  unexposed     PMMA     0   \n",
       "376       PMMA_unexposed.dpt  02-11-2025  unexposed     PMMA     0   \n",
       "377  KKCE_J-BOX#2_1000hr.dpt  02-11-2025       KKCE  J-BOX#2  1000   \n",
       "\n",
       "                                                X-Axis  \\\n",
       "0    [3998.33984, 3997.30987, 3996.2799, 3995.24993...   \n",
       "1    [3998.33984, 3997.30987, 3996.2799, 3995.24993...   \n",
       "2    [3998.33984, 3997.30987, 3996.2799, 3995.24993...   \n",
       "3    [3998.33984, 3997.30987, 3996.2799, 3995.24993...   \n",
       "4    [3998.33984, 3997.30987, 3996.2799, 3995.24993...   \n",
       "..                                                 ...   \n",
       "373  [3998.33984, 3997.30987, 3996.2799, 3995.24993...   \n",
       "374  [3998.33984, 3997.30987, 3996.2799, 3995.24993...   \n",
       "375  [3998.33984, 3997.30987, 3996.2799, 3995.24993...   \n",
       "376  [3998.33984, 3997.30987, 3996.2799, 3995.24993...   \n",
       "377  [3998.33984, 3997.30987, 3996.2799, 3995.24993...   \n",
       "\n",
       "                                              Raw Data Baseline Function  \\\n",
       "0    [0.02034, 0.02032, 0.02046, 0.02068, 0.02069, ...               NaN   \n",
       "1    [0.02148, 0.02145, 0.02154, 0.02161, 0.02163, ...               NaN   \n",
       "2    [0.002, 0.0021, 0.00239, 0.00261, 0.0026, 0.00...               NaN   \n",
       "3    [0.0054, 0.00536, 0.00535, 0.00538, 0.00547, 0...               NaN   \n",
       "4    [-0.00232, -0.00235, -0.00243, -0.00251, -0.00...               NaN   \n",
       "..                                                 ...               ...   \n",
       "373  [0.00015, 0.00012, 0.00027, 0.00042, 0.00057, ...               NaN   \n",
       "374  [-0.005, -0.00499, -0.005, -0.00501, -0.00469,...               NaN   \n",
       "375  [0.00335, 0.00325, 0.00323, 0.00332, 0.00333, ...               NaN   \n",
       "376  [0.00079, 0.00064, 0.0006, 0.00069, 0.00067, 0...               NaN   \n",
       "377  [0.00031, 0.00025, 0.00019, 0.00011, 5e-05, 5e...               NaN   \n",
       "\n",
       "    Baseline Parameters Baseline Baseline-Corrected Data  \\\n",
       "0                   NaN      NaN                     NaN   \n",
       "1                   NaN      NaN                     NaN   \n",
       "2                   NaN      NaN                     NaN   \n",
       "3                   NaN      NaN                     NaN   \n",
       "4                   NaN      NaN                     NaN   \n",
       "..                  ...      ...                     ...   \n",
       "373                 NaN      NaN                     NaN   \n",
       "374                 NaN      NaN                     NaN   \n",
       "375                 NaN      NaN                     NaN   \n",
       "376                 NaN      NaN                     NaN   \n",
       "377                 NaN      NaN                     NaN   \n",
       "\n",
       "    Normalization Peak Wavenumber Normalized and Corrected Data  \\\n",
       "0                             NaN                           NaN   \n",
       "1                             NaN                           NaN   \n",
       "2                             NaN                           NaN   \n",
       "3                             NaN                           NaN   \n",
       "4                             NaN                           NaN   \n",
       "..                            ...                           ...   \n",
       "373                           NaN                           NaN   \n",
       "374                           NaN                           NaN   \n",
       "375                           NaN                           NaN   \n",
       "376                           NaN                           NaN   \n",
       "377                           NaN                           NaN   \n",
       "\n",
       "    Peak Wavenumbers Peak Absorbances Deconvolution Results  \n",
       "0               None             None                  None  \n",
       "1               None             None                  None  \n",
       "2               None             None                  None  \n",
       "3               None             None                  None  \n",
       "4               None             None                  None  \n",
       "..               ...              ...                   ...  \n",
       "373             None             None                  None  \n",
       "374             None             None                  None  \n",
       "375             None             None                  None  \n",
       "376             None             None                  None  \n",
       "377             None             None                  None  \n",
       "\n",
       "[378 rows x 17 columns]"
      ]
     },
     "execution_count": 4,
     "metadata": {},
     "output_type": "execute_result"
    }
   ],
   "source": [
    "materials = \"PPE\"\n",
    "filepath = None\n",
    "peak_deconvolution(FTIR_DataFrame, materials=materials, filepath=filepath)"
   ]
  },
  {
   "cell_type": "markdown",
   "id": "98037cf1",
   "metadata": {},
   "source": [
    "## 5) Model Fitting"
   ]
  },
  {
   "cell_type": "markdown",
   "id": "ec094ead",
   "metadata": {},
   "source": [
    "## 6) Results"
   ]
  },
  {
   "cell_type": "markdown",
   "id": "69dd0cec",
   "metadata": {},
   "source": [
    "### Save the DataFrame"
   ]
  },
  {
   "cell_type": "code",
   "execution_count": null,
   "id": "a2436844",
   "metadata": {},
   "outputs": [],
   "source": [
    "# Save the DataFrame to CSV\n",
    "DataFrame_path = DataFrame_path  # Specify the path to your DataFrame CSV file (default \n",
    "# will be FTIR_DataFrame.csv in the active directory)\n",
    "FTIR_DataFrame.to_csv(DataFrame_path, index=False)\n",
    "print(f\"DataFrame saved to {DataFrame_path}\")"
   ]
  }
 ],
 "metadata": {
  "kernelspec": {
   "display_name": "FTIR-SCAN",
   "language": "python",
   "name": "python3"
  },
  "language_info": {
   "codemirror_mode": {
    "name": "ipython",
    "version": 3
   },
   "file_extension": ".py",
   "mimetype": "text/x-python",
   "name": "python",
   "nbconvert_exporter": "python",
   "pygments_lexer": "ipython3",
   "version": "3.13.7"
  }
 },
 "nbformat": 4,
 "nbformat_minor": 5
}
