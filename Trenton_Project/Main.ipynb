{
 "cells": [
  {
   "cell_type": "markdown",
   "id": "ffae5f63",
   "metadata": {},
   "source": [
    "# FTIR Data Analysis Main Workflow\n",
    "This notebook guides you through the main steps of the FTIR data analysis workflow, including file renaming, DataFrame creation or modification, and baseline correction parameter management."
   ]
  },
  {
   "cell_type": "markdown",
   "id": "baac3563",
   "metadata": {},
   "source": [
    "## 1) Setup\n",
    "### Import Statements\n",
    "Import necessary libraries and modules for data analysis and visualization."
   ]
  },
  {
   "cell_type": "code",
   "execution_count": null,
   "id": "58e5b728",
   "metadata": {},
   "outputs": [],
   "source": [
    "import pandas as pd\n",
    "# from scipy.sparse import diags\n",
    "# from scipy.sparse.linalg import spsolve\n",
    "# from scipy.signal import convolve\n",
    "# from math import ceil\n",
    "from Fixing_File_Names import batch_rename_files\n",
    "from File_Info_Gathering import file_info_extractor\n",
    "# from pybaselines.utils import (\n",
    "#     relative_difference,\n",
    "#     optimize_window,\n",
    "#     pad_edges,\n",
    "#     ParameterWarning\n",
    "# )\n",
    "from IPython.display import (\n",
    "    display,\n",
    "    HTML\n",
    ")\n",
    "from Analysis_FTIR import (\n",
    "    baseline_selection,\n",
    "    plot_grouped_spectra,\n",
    "    try_baseline,\n",
    "    bring_in_DataFrame,\n",
    "    test_baseline_choices,\n",
    "    parameter_selection,\n",
    "    select_anchor_points\n",
    ")\n",
    "try:# Colab Compatibility\n",
    "    from google.colab import output  # type: ignore \n",
    "\n",
    "    output.enable_custom_widget_manager()\n",
    "    In_Colab = True\n",
    "except Exception:\n",
    "    In_Colab = False"
   ]
  },
  {
   "cell_type": "markdown",
   "id": "a69f49c6",
   "metadata": {},
   "source": [
    "### File Renaming\n",
    "You can optionally rename files in your dataset.\n",
    "\n",
    "This script scans a specified root directory and its subdirectories to find and rename files. Folder names will not be changed,except in the case of date renaming to ISO format (e.g., 2025-09-18) (optional). It works by replacing spaces and/or specified words in the filenames. (e.g., replacing spaces with underscores). Suggested to use this tool if file names have inconsistent naming conventions that may cause issues in downstream processing."
   ]
  },
  {
   "cell_type": "code",
   "execution_count": null,
   "id": "c80c6551",
   "metadata": {},
   "outputs": [],
   "source": [
    "# Set directory to rename folders and files within (e.g., r\"C:\\Users\\user1\\folder1\").\n",
    "directory = None\n",
    "# If you want to replace spaces in filenames, set replace_spaces to True and set \n",
    "# character_to_use to the desired separator (e.g., \"_\").\n",
    "replace_spaces = None\n",
    "character_to_use = None\n",
    "# If you want to convert all dates in the directory names to ISO format (YYYY-MM-DD), \n",
    "# set iso_date_rename to True\n",
    "iso_date_rename = None\n",
    "# If you want to replace other specified words in filenames, set file_rename to True and\n",
    "# provide pairs_input (e.g., \"old1:new1,old2:new2\").\n",
    "file_rename = None\n",
    "pairs_input = None\n",
    "# If any of these parameters are set to None, you will be prompted for input (may result\n",
    "# in multiple prompts and/or minor formatting issues).\n",
    "# Rename files in the specified directory.\n",
    "batch_rename_files(\n",
    "    directory=directory,\n",
    "    replace_spaces=replace_spaces,\n",
    "    character_to_use=character_to_use,\n",
    "    iso_date_rename=iso_date_rename,\n",
    "    file_rename=file_rename,\n",
    "    pairs_input=pairs_input,\n",
    ")"
   ]
  },
  {
   "cell_type": "markdown",
   "id": "c55543b1",
   "metadata": {},
   "source": [
    "### Load or create DataFrame\n",
    "The DataFrame stores all of the relevant information on the spectra in an easily organized format. Processes within this Notebook often refer to the DataFrame within the working memory, and it is saved at the end of the Notebook. If running this for the first time, this cell creates a blank DataFrame that will be filled in by the next cell."
   ]
  },
  {
   "cell_type": "code",
   "execution_count": null,
   "id": "d5ef5b29",
   "metadata": {},
   "outputs": [],
   "source": [
    "# Set path to your DataFrame CSV file. Leave as None if DataFrame is new or in default \n",
    "# location.\n",
    "DataFrame_path = None\n",
    "\n",
    "FTIR_dataframe = bring_in_DataFrame(DataFrame_path=DataFrame_path)"
   ]
  },
  {
   "cell_type": "markdown",
   "id": "ad02311b",
   "metadata": {},
   "source": [
    "### Fill or Append to DataFrame\n",
    "Gathers file information and builds the main data structure for analysis. Repeated uses can append new data into the existing DataFrame.\n",
    "\n",
    "The DataFrame will have a row for each spectrum file, with columns as follows:\n",
    "\n",
    "File Location, File Name, Date, Conditions, Material, Time, X-Axis, Raw Data, Baseline Function, Baseline Parameters, Baseline, Baseline-Corrected Data, Normalization Peak Wavenumber, Normalized and Corrected Data\n",
    "\n",
    "This function will append any files that aren't already included.\n",
    "If FTIR_dataframe is empty it will create it from scratch."
   ]
  },
  {
   "cell_type": "code",
   "execution_count": null,
   "id": "f162543f",
   "metadata": {},
   "outputs": [],
   "source": [
    "# Set directory containing files to analyze (e.g., r\"C:\\Users\\user1\\folder1\").\n",
    "directory = r\"Y:\\5200\\Packaging Reliability\\Durability Tool\\Ray Tracing and Activation Spectrum\\ATR-FTIR Data\"\n",
    "# Set file types to include (e.g., [\".dpt\", \".txt\", \".csv\"]).\n",
    "file_types = \".dpt\"\n",
    "# Set separators to use when finding terms within filenames (e.g., [\"_\", \" \"])\n",
    "separators = \"_\"\n",
    "# Set material terms to search for in filenames (e.g., [\"Si\", \"Perovskite\", \"Glass\"]) \n",
    "# (case-insensitive).\n",
    "material_terms = \"CPC, t-PVDF, t-PVF, o-PVF, PPE, J-BOX#1, J-BOX#2, PO, PMMA\"\n",
    "# Set conditions terms to search for in filenames (e.g., [\"A3\", \"A4\", \"B3\", \"B4\"])\n",
    "conditions_terms = \"A3, A4, A5, 0.5X, 1X, 2.5X, 5X, ARC, OPN, KKCE, unexposed\"\n",
    "# Set append_missing to False to add only files which have all required information, or \n",
    "# True to add files even if some information is missing (may lead to issues downstream)\n",
    "append_missing = False\n",
    "# Set track_replicates to True to print the groups of replicate files\n",
    "track_replicates = False\n",
    "# If any of these parameters are set to None, you will be prompted for input (may result\n",
    "# in multiple prompts and/or minor formatting issues).\n",
    "\n",
    "# Extract File Information and build or append to the main DataFrame.\n",
    "FTIR_dataframe = file_info_extractor(\n",
    "    FTIR_dataframe=FTIR_dataframe,\n",
    "    directory=directory,\n",
    "    file_types=file_types,\n",
    "    separators=separators,\n",
    "    material_terms=material_terms,\n",
    "    conditions_terms=conditions_terms,\n",
    "    append_missing=append_missing,\n",
    "    track_replicates=track_replicates,\n",
    ")"
   ]
  },
  {
   "cell_type": "markdown",
   "id": "1c1ebbd8",
   "metadata": {},
   "source": [
    "### Display DataFrame"
   ]
  },
  {
   "cell_type": "code",
   "execution_count": null,
   "id": "62a19bbb",
   "metadata": {},
   "outputs": [],
   "source": [
    "pd.set_option(\"display.max_columns\", None)\n",
    "pd.set_option(\"display.max_rows\", None)\n",
    "display(\n",
    "    HTML(\n",
    "        '<div style=\"height:500px;overflow:auto;\">'\n",
    "        + FTIR_dataframe.to_html(max_rows=None, max_cols=None, notebook=True)\n",
    "        + \"</div>\"\n",
    "    )\n",
    ")"
   ]
  },
  {
   "cell_type": "markdown",
   "id": "e21d25f0",
   "metadata": {},
   "source": [
    "### Plot Spectra\n",
    "Pick the material(s), condition(s), time(s) and which version of those files' data to plot.\n",
    "\n",
    "A group plot is always created, but if separate_plots = True, then each spectrum will also be plotted individually.\n",
    "\n",
    "If include_replicates = False, then the only first file found with those terms will be used."
   ]
  },
  {
   "cell_type": "code",
   "execution_count": null,
   "id": "3e0d7d11",
   "metadata": {},
   "outputs": [],
   "source": [
    "# Set parameters for filtering and plotting\n",
    "materials = \"PO\"  # Example material\n",
    "conditions = \"A3\"  # Example conditions\n",
    "times = \"any\"  # Example time\n",
    "raw_data = True\n",
    "baseline = False\n",
    "baseline_corrected = False\n",
    "separate_plots = True\n",
    "include_replicates = True\n",
    "zoom = (\n",
    "    None  # Set to \"x_minimum-x_maximum\" format, e.g., \"400-4000\", or None for no zoom\n",
    ")\n",
    "\n",
    "# Plot the grouped spectra\n",
    "%matplotlib inline\n",
    "plot_grouped_spectra(\n",
    "    FTIR_dataframe=FTIR_dataframe,\n",
    "    materials=materials,\n",
    "    conditions=conditions,\n",
    "    times=times,\n",
    "    raw_data=raw_data,\n",
    "    baseline=baseline,\n",
    "    baseline_corrected=baseline_corrected,\n",
    "    separate_plots=separate_plots,\n",
    "    include_replicates=include_replicates,\n",
    "    zoom=zoom,\n",
    ")"
   ]
  },
  {
   "cell_type": "markdown",
   "id": "254fcae0",
   "metadata": {},
   "source": [
    "## 2) Baseline Correction\n",
    "You can choose a baseline approximation function for each different material that you have data for. It's recommended that you use 'ARPLS' with tweaked parameters or use 'Manual'. However, some datasets work better with different methods, so experiment if necessary.\n",
    "\n",
    "Baseline Options:\n",
    "\n",
    "Asymmetric Least Square \n",
    "\n",
    "    'ARPLS': asymmetrically reweighted penalized least squares smoothing-- an asymmetric least square method that uses a weighting function to account for noisy data.\n",
    "\n",
    "Spline\n",
    "\n",
    "    'IRSQR': iterative reweighted spline quantile regression-- uses penalized splines and iterative reweighted least squares to perform quantile regression.\n",
    "\n",
    "Classification\n",
    "\n",
    "    'FABC': fully automatic baseline correction-- uses first derivative approximation of data to identify and then ignore peak regions, then fits to baseline regions using Whittaker smoothing.\n",
    "\n",
    "Manual\n",
    "\n",
    "    'Manual': set \"anchor points\" for each of your materials using the built-in tool. This will create a list of wavenumber values that should always fall in the baseline regions for each spectrum of that material. A cubic spline interpolation will be done between those points' values in each scan."
   ]
  },
  {
   "cell_type": "markdown",
   "id": "63de6414",
   "metadata": {},
   "source": [
    "### Try Baselines Out\n",
    "Try out different baseline types and parameter options without saving the results. The function will find the first file of your selected material with time == 0 (aka non-degraded) and display what the currently chosen settings will create for a baseline."
   ]
  },
  {
   "cell_type": "markdown",
   "id": "db9338dd",
   "metadata": {},
   "source": [
    "#### For non-manual baselines:\n",
    "For custom parameters, move sliders or type desired value into box and hit 'enter'.\n",
    "\n",
    "Accepts a filepath as an argument if you want to experiment with a specific file. In that case, \"material\" argument will be ignored."
   ]
  },
  {
   "cell_type": "code",
   "execution_count": null,
   "id": "08671e15",
   "metadata": {},
   "outputs": [],
   "source": [
    "filepath = None  # If None, will find first Time-Zero file of the specified material\n",
    "material = \"PPE\"  # Specify material to analyze (e.g., \"PPE\", with quotes).\n",
    "baseline_function = \"ARPLS\"  # Specify baseline function to try (options: \n",
    "# \"ARPLS\", \"IRSQR\", \"FABC\", quotes included).\n",
    "parameter_string = None  # For custom parameters, structure like so: \n",
    "# parameter_string=\"lam=100, quantile=0.05\". Default parameters will be used if None.\n",
    "\n",
    "try_baseline(\n",
    "    FTIR_dataframe,\n",
    "    material=material,\n",
    "    baseline_function=baseline_function,\n",
    "    parameter_string=parameter_string,\n",
    "    filepath=filepath,\n",
    ")"
   ]
  },
  {
   "cell_type": "markdown",
   "id": "b7390268",
   "metadata": {},
   "source": [
    "#### For manual baseline:\n",
    "If an error appears on repeated running of this cell, simply click 'continue' and scroll down-- the error will clear."
   ]
  },
  {
   "cell_type": "code",
   "execution_count": 26,
   "id": "371be43f",
   "metadata": {},
   "outputs": [
    {
     "ename": "NameError",
     "evalue": "name 'DataFrame_path' is not defined",
     "output_type": "error",
     "traceback": [
      "\u001b[31m---------------------------------------------------------------------------\u001b[39m",
      "\u001b[31mNameError\u001b[39m                                 Traceback (most recent call last)",
      "\u001b[36mCell\u001b[39m\u001b[36m \u001b[39m\u001b[32mIn[26]\u001b[39m\u001b[32m, line 8\u001b[39m\n\u001b[32m      1\u001b[39m filepath = \u001b[38;5;28;01mNone\u001b[39;00m  \u001b[38;5;66;03m# If None, will find first Time-Zero file of the specified material\u001b[39;00m\n\u001b[32m      2\u001b[39m material = \u001b[33m\"\u001b[39m\u001b[33mPPE\u001b[39m\u001b[33m\"\u001b[39m\n\u001b[32m      3\u001b[39m select_anchor_points(\n\u001b[32m      4\u001b[39m     FTIR_dataframe,\n\u001b[32m      5\u001b[39m     material=material,\n\u001b[32m      6\u001b[39m     filepath=filepath,\n\u001b[32m      7\u001b[39m     try_it_out=\u001b[38;5;28;01mTrue\u001b[39;00m,\n\u001b[32m----> \u001b[39m\u001b[32m8\u001b[39m     DataFrame_path=\u001b[43mDataFrame_path\u001b[49m,\n\u001b[32m      9\u001b[39m )\n",
      "\u001b[31mNameError\u001b[39m: name 'DataFrame_path' is not defined"
     ]
    }
   ],
   "source": [
    "filepath = None  # If None, will find first Time-Zero file of the specified material\n",
    "material = \"PPE\"\n",
    "select_anchor_points(\n",
    "    FTIR_dataframe,\n",
    "    material=material,\n",
    "    filepath=filepath,\n",
    "    try_it_out=True,\n",
    "    DataFrame_path=DataFrame_path,\n",
    ")"
   ]
  },
  {
   "cell_type": "markdown",
   "id": "6a0bd31d",
   "metadata": {},
   "source": [
    "### Baseline Selection\n",
    "materials should be a string, e.g. \"PPE, Perovskite, Plexiglass\", quotation marks included."
   ]
  },
  {
   "cell_type": "code",
   "execution_count": null,
   "id": "1eba4282",
   "metadata": {},
   "outputs": [],
   "source": [
    "### ARPLS ###\n",
    "materials = \"t-PVDF, o-PVF, PO\"\n",
    "if materials:\n",
    "    baseline_selection(FTIR_dataframe, materials=materials, baseline_function=\"ARPLS\")\n",
    "\n",
    "### IRSQR ###\n",
    "materials = \"CPC\"\n",
    "if materials:\n",
    "    baseline_selection(FTIR_dataframe, materials=materials, baseline_function=\"IRSQR\")\n",
    "\n",
    "### FABC ###\n",
    "materials = \"t-PVF\"\n",
    "if materials:\n",
    "    baseline_selection(FTIR_dataframe, materials=materials, baseline_function=\"FABC\")\n",
    "\n",
    "### Manual Selection ###\n",
    "materials = None\n",
    "if materials:\n",
    "    baseline_selection(FTIR_dataframe, materials=materials, baseline_function=\"MANUAL\")"
   ]
  },
  {
   "cell_type": "markdown",
   "id": "caad7b60",
   "metadata": {},
   "source": [
    "### Parameter Selection"
   ]
  },
  {
   "cell_type": "markdown",
   "id": "66a417cf",
   "metadata": {},
   "source": [
    "#### ARPLS Parameters\n",
    "lam (float): Smoothness parameter (higher = smoother baseline).\n",
    "\n",
    "diff_order (integer): Order of the differential matrix.\n",
    "\n",
    "max_iter (integer): Max number of fit iterations.\n",
    "\n",
    "tol (float): Exit criteria (accuracy goal)."
   ]
  },
  {
   "cell_type": "markdown",
   "id": "1e829e29",
   "metadata": {},
   "source": [
    "#### IRSQR Parameters\n",
    "lam (float): The smoothing parameter (higher = smoother baseline).\n",
    "\n",
    "quantile (float): The quantile at which to fit the baseline (0 < quantile < 1).\n",
    "\n",
    "num_knots (integer): The number of knots for the spline.\n",
    "\n",
    "spline_degree (integer): The degree of the spline.\n",
    "\n",
    "diff_order (integer): The order of the differential matrix. Must be greate matrix). Typical values are 3, 2, or 1.\n",
    "\n",
    "max_iter (integer): The max number of fit iterations.\n",
    "\n",
    "tol (float): Exit criteria (accuracy goal).\n",
    "\n",
    "weights (array-like): The weighting array. If None (default), then the initial weights will be an array with size equal to N and all values set to 1.\n",
    "\n",
    "eps (float): A small value added to the square of the residual to prevent dividing by 0. Default is None, which uses the square of the maximum-absolute-value of the fit each iteration multiplied by 1e-6."
   ]
  },
  {
   "cell_type": "markdown",
   "id": "12707a81",
   "metadata": {},
   "source": [
    "#### FABC Parameters\n",
    "lam (float): The smoothing parameter (higher = smoother baseline).\n",
    "\n",
    "scale (integer): The scale at which to calculate the continuous wavelet transform. Should be approximately equal to the index-based full-width-at-half-maximum of the peaks or features in the data. Default is None, which will use half of the value from :func:`.optimize_window`, which is not always a good value, but at least scales with the number of data points and gives a starting point for tuning the parameter.\n",
    "\n",
    "num_std (float): The number of standard deviations to include when thresholding. Higher values\n",
    "will assign more points as baseline.\n",
    "\n",
    "diff_order (integer): The order of the differential matrix. Must be greater than 0. Typical values are 2 or 1.\n",
    "\n",
    "min_length (integer): Any region of consecutive baseline points less than `min_length` is considered to be a false positive and all points in the region are converted to peak points. A higher `min_length` ensures less points are falsely assigned as baseline points. Default is 2, which only removes lone baseline points.\n",
    "\n",
    "weights (array-like): The weighting array, used to override the function's baseline identification to designate peak points. Only elements with 0 or False values will have an effect; all non-zero values are considered baseline points. If None, then will be an array with size equal to N and all values set to 1.\n",
    "\n",
    "weights_as_mask (bool): If True, signifies that the input `weights` is the mask to use for fitting, which skips the continuous wavelet calculation and just smooths the input data.\n",
    "\n",
    "pad_kwargs (dict): A dictionary of keyword arguments to pass to :func:`.pad_edges` for padding the edges of the data to prevent edge effects from convolution for the continuous wavelet transform. Default is None."
   ]
  },
  {
   "cell_type": "code",
   "execution_count": null,
   "id": "92bcdc9d",
   "metadata": {},
   "outputs": [],
   "source": [
    "# Run this cell repeatedly to set parameters for different sets of materials\n",
    "materials = \"PPE\"  # Specify materials to parameterize the baseline of (e.g., \"PPE, \n",
    "# PVF\", with quotes).\n",
    "parameters = \"lam=100, p=0.01, iterations=1000\"  # Specify baseline parameters to apply \n",
    "# to all selected materials (e.g., \"lam=100, p=0.01, iterations=1000\", with quotes).\n",
    "FTIR_dataframe = parameter_selection(\n",
    "    FTIR_dataframe, materials=materials, parameters=parameters\n",
    ")"
   ]
  },
  {
   "cell_type": "markdown",
   "id": "963f3c89",
   "metadata": {},
   "source": [
    "#### Manual Parameters\n",
    "anchor_points (float): The manually selected anchor points, from which the baseline is constructed via a cubic spline interpolation between them. The points are selected in one file from the regions that should always remain outside of peaks for that material, under reasonable degradation conditions. The points associated with these wavenumbers will be accessed in each file and a separate interpolation will be done for each one. So while the anchor points are the same in every spectrum, the actual baseline correction will be personalized for each."
   ]
  },
  {
   "cell_type": "code",
   "execution_count": null,
   "id": "57272724",
   "metadata": {},
   "outputs": [],
   "source": [
    "material = \"PPE\"  # Specify material to manually select anchor points for (e.g., \"PPE\", \n",
    "# with quotes).\n",
    "select_anchor_points(\n",
    "    FTIR_dataframe, material=material, try_it_out=False, DataFrame_path=DataFrame_path\n",
    ")\n",
    "# Restart kernel (or webpage, on Colab) if needed to reset interactive plot. Repeatedly \n",
    "# running this cell without restarting may cause issues due to Colab limitations.\n",
    "# Note that this cell will also save the DataFrame to file so that the selected anchor \n",
    "# points are stored, even after restarting the kernel."
   ]
  },
  {
   "cell_type": "markdown",
   "id": "d440147b",
   "metadata": {},
   "source": [
    "### Test Baseline and Parameter Choices\n",
    "Generates plots with the selected baseline and parameters for three random files of the specified material. Allows for quality check."
   ]
  },
  {
   "cell_type": "code",
   "execution_count": null,
   "id": "628c80d4",
   "metadata": {},
   "outputs": [],
   "source": [
    "material = \"PPE\"  # Specify material to analyze (e.g., \"PPE\", with quotes).\n",
    "test_baseline_choices(FTIR_dataframe, material=material)"
   ]
  },
  {
   "cell_type": "markdown",
   "id": "08e6e58c",
   "metadata": {},
   "source": [
    "## 3) Normalization"
   ]
  },
  {
   "cell_type": "markdown",
   "id": "88f04e6b",
   "metadata": {},
   "source": [
    "## 4) Deconvolution"
   ]
  },
  {
   "cell_type": "markdown",
   "id": "ab1b4f13",
   "metadata": {},
   "source": [
    "## 5) Peak Analysis"
   ]
  },
  {
   "cell_type": "markdown",
   "id": "98037cf1",
   "metadata": {},
   "source": [
    "## 6) Model Fitting"
   ]
  },
  {
   "cell_type": "markdown",
   "id": "ec094ead",
   "metadata": {},
   "source": [
    "## 7) Results"
   ]
  },
  {
   "cell_type": "markdown",
   "id": "69dd0cec",
   "metadata": {},
   "source": [
    "### Save the DataFrame"
   ]
  },
  {
   "cell_type": "code",
   "execution_count": null,
   "id": "a2436844",
   "metadata": {},
   "outputs": [],
   "source": [
    "# Save the DataFrame to CSV\n",
    "DataFrame_path = DataFrame_path  # Specify the path to your DataFrame CSV file (default \n",
    "# will be FTIR_dataframe.csv in the active directory)\n",
    "FTIR_dataframe.to_csv(DataFrame_path, index=False)"
   ]
  }
 ],
 "metadata": {
  "kernelspec": {
   "display_name": "FTIR-SCAN",
   "language": "python",
   "name": "python3"
  },
  "language_info": {
   "codemirror_mode": {
    "name": "ipython",
    "version": 3
   },
   "file_extension": ".py",
   "mimetype": "text/x-python",
   "name": "python",
   "nbconvert_exporter": "python",
   "pygments_lexer": "ipython3",
   "version": "3.13.7"
  }
 },
 "nbformat": 4,
 "nbformat_minor": 5
}
